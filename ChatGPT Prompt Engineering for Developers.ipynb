{
 "cells": [
  {
   "cell_type": "code",
   "execution_count": 6,
   "id": "1549c2c8",
   "metadata": {},
   "outputs": [
    {
     "data": {
      "text/plain": [
       "True"
      ]
     },
     "execution_count": 6,
     "metadata": {},
     "output_type": "execute_result"
    }
   ],
   "source": [
    "from IPython.display import display, HTML, Markdown\n",
    "from dotenv import load_dotenv\n",
    "import os\n",
    "import openai\n",
    "\n",
    "load_dotenv('.env')\n"
   ]
  },
  {
   "cell_type": "code",
   "execution_count": 2,
   "id": "5b3e8728",
   "metadata": {},
   "outputs": [],
   "source": [
    "# Obtén el valor de la variable CHATGPT_APPI_KEY\n",
    "openai.api_key = os.getenv('CHATGPT_APPI_KEY')"
   ]
  },
  {
   "cell_type": "markdown",
   "id": "1af3b4f5",
   "metadata": {},
   "source": [
    "utilizaremos el modelo `gpt-3.5-turbo` de OpenAI y el [punto final de completado de chat](https://platform.openai.com/docs/guides/chat).\n",
    "\n",
    "Esta función auxiliar facilitará el uso de indicaciones y la visualización de los resultados generados."
   ]
  },
  {
   "cell_type": "code",
   "execution_count": 3,
   "id": "10b231e1",
   "metadata": {},
   "outputs": [],
   "source": [
    "def get_completion(prompt, model=\"gpt-3.5-turbo\"): # parametros que es la petición y el modelo a usar\n",
    "    messages = [{\"role\": \"user\", \"content\": prompt}]\n",
    "    response = openai.ChatCompletion.create(\n",
    "        model=model,\n",
    "        messages=messages,\n",
    "        temperature=0, # this is the degree of randomness of the model's output\n",
    "    )\n",
    "    return response.choices[0].message[\"content\"]"
   ]
  },
  {
   "cell_type": "markdown",
   "id": "d80d2dc3",
   "metadata": {},
   "source": [
    "## CLARO Y SENCILLO\n",
    "\n",
    "Lo primero es que debemos hacer una petición sencilla pero también que sea muy clara, para ello debemos colocar indicadores para facilitar la petición.\n",
    "\n",
    "Principios para guiar las indicaciones:\n",
    "\n",
    "- **Principio 1: Escribe instrucciones claras y específicas**\n",
    "- **Principio 2: Dale tiempo al modelo para que \"piense\"**\n",
    "\n",
    "Tácticas a utilizar:\n",
    "\n",
    "#### Táctica 1: Utiliza delimitadores para indicar claramente las partes distintas de la entrada\n",
    "- Los delimitadores pueden ser cualquier cosa como: ```, \"\"\", < >, `<tag> </tag>`, `:`"
   ]
  },
  {
   "cell_type": "code",
   "execution_count": 4,
   "id": "543e3777",
   "metadata": {},
   "outputs": [
    {
     "name": "stdout",
     "output_type": "stream",
     "text": [
      "Es importante proporcionar instrucciones claras y específicas al modelo para guiarlo hacia la salida deseada y evitar respuestas irrelevantes o incorrectas, y en muchos casos, las indicaciones más largas pueden proporcionar mayor claridad y contexto para obtener salidas más detalladas y relevantes.\n"
     ]
    }
   ],
   "source": [
    "text = f\"\"\"\n",
    "Debes expresar lo que deseas que haga el modelo proporcionando instrucciones lo más claras y específicas posible.\n",
    "Esto guiará al modelo hacia la salida deseada y reducirá las posibilidades de recibir respuestas irrelevantes o \n",
    "incorrectas. No confundas escribir una indicación clara con escribir una indicación breve. En muchos casos,\n",
    "las indicaciones más largas proporcionan mayor claridad y contexto al modelo, lo que puede resultar en salidas\n",
    "más detalladas y relevantes.\n",
    "\"\"\"\n",
    "\n",
    "prompt = f\"\"\"Resumir el texto delimitado por triple comillas invertidas en una sola oración.\n",
    "```{text}```\n",
    "\n",
    "\"\"\"\n",
    "response = get_completion(prompt)\n",
    "print(response)"
   ]
  },
  {
   "cell_type": "code",
   "execution_count": 5,
   "id": "8fc373f6",
   "metadata": {},
   "outputs": [
    {
     "name": "stdout",
     "output_type": "stream",
     "text": [
      "[\n",
      "  {\n",
      "    \"book_id\": 1,\n",
      "    \"título\": \"El jardín de las mariposas\",\n",
      "    \"autor\": \"Ana García\",\n",
      "    \"género\": \"Novela de suspense\"\n",
      "  },\n",
      "  {\n",
      "    \"book_id\": 2,\n",
      "    \"título\": \"La ciudad de los sueños\",\n",
      "    \"autor\": \"Carlos Pérez\",\n",
      "    \"género\": \"Ciencia ficción\"\n",
      "  },\n",
      "  {\n",
      "    \"book_id\": 3,\n",
      "    \"título\": \"El secreto de la montaña\",\n",
      "    \"autor\": \"María López\",\n",
      "    \"género\": \"Novela romántica\"\n",
      "  }\n",
      "]\n"
     ]
    }
   ],
   "source": [
    "prompt = f\"\"\"\n",
    "Genere una lista de tres títulos de libros inventados a lo largo de \\\n",
    "con sus autores y géneros.\n",
    "Proporcionarlos en formato JSON con las siguientes claves:\n",
    "book_id, título, autor, género.\n",
    "\"\"\"\n",
    "response = get_completion(prompt)\n",
    "print(response)"
   ]
  },
  {
   "cell_type": "code",
   "execution_count": 6,
   "id": "f0cbb1c9",
   "metadata": {},
   "outputs": [
    {
     "name": "stdout",
     "output_type": "stream",
     "text": [
      "Completar el Texto 1:\n",
      "Paso 1 - Obtener agua hirviendo.\n",
      "Paso 2 - Tomar una taza y poner una bolsita de té en ella.\n",
      "Paso 3 - Verter el agua caliente sobre la bolsita de té.\n",
      "Paso 4 - Dejar reposar el té durante unos minutos.\n",
      "Paso 5 - Sacar la bolsita de té.\n",
      "Paso 6 - Agregar azúcar o leche al gusto (opcional).\n",
      "Paso 7 - Disfrutar de una deliciosa taza de té.\n"
     ]
    }
   ],
   "source": [
    "# puede pedirsele que verifique  si la entrada de instrucciones es correcta\n",
    "\n",
    "text_1 = f\"\"\"\n",
    "¡Preparar una taza de té es fácil! Primero, necesitas obtener algo de \\\n",
    "agua hirviendo. Mientras eso sucede, \\\n",
    "toma una taza y ponle una bolsita de té. Una vez que el agua es \\\n",
    "lo suficientemente caliente, simplemente viértalo sobre la bolsita de té. \\\n",
    "Déjalo reposar un rato para que el té pueda empinarse. Después de \\\n",
    "unos minutos, saque la bolsita de té. Si usted \\\n",
    "como, puedes agregar un poco de azúcar o leche al gusto. \\\n",
    "¡Y eso es! Tienes un delicioso \\\n",
    "taza de té para disfrutar.\n",
    "\"\"\"\n",
    "prompt = f\"\"\"\n",
    "Se le proporcionará un texto delimitado por comillas triples.\n",
    "Si contiene una secuencia de instrucciones, \\\n",
    "reescriba esas instrucciones en el siguiente formato:\n",
    "\n",
    "Paso 1 - ...\n",
    "Paso 2 - …\n",
    "…\n",
    "Paso N - …\n",
    "\n",
    "Si el texto no contiene una secuencia de instrucciones, \\\n",
    "luego simplemente escriba \\\"No se proporcionan pasos.\\\"\n",
    "\n",
    "\\\"\\\"\\\"{text_1}\\\"\\\"\\\"\n",
    "\"\"\"\n",
    "response = get_completion(prompt)\n",
    "print(\"Completar el Texto 1:\")\n",
    "print(response)"
   ]
  },
  {
   "cell_type": "code",
   "execution_count": 8,
   "id": "0d70c3e6",
   "metadata": {},
   "outputs": [
    {
     "name": "stdout",
     "output_type": "stream",
     "text": [
      "complete el Texto 2:\n",
      "No se proporcionan pasos.\n"
     ]
    }
   ],
   "source": [
    "text_2 = F\"\"\"\n",
    "El sol brilla intensamente hoy, y los pájaros están \\\n",
    "cantando. Es un hermoso día para ir por un \\\n",
    "caminar en el parque. Las flores están floreciendo, y \\\n",
    "los árboles se mecen suavemente con la brisa. Gente \\\n",
    "están fuera de casa, disfrutando del buen tiempo. \\\n",
    "Algunos están de picnic, mientras que otros están jugando.\n",
    "juegos o simplemente relajarse en el césped. Es un \\\n",
    "día perfecto para pasar tiempo al aire libre y apreciar el \\\n",
    "belleza de la naturaleza.\n",
    "\"\"\"\n",
    "prompt = f\"\"\"\n",
    "Se le proporcionará un texto delimitado por comillas triples.\n",
    "Si contiene una secuencia de instrucciones, \\\n",
    "reescriba esas instrucciones en el siguiente formato:\n",
    "\n",
    "Paso 1 - ...\n",
    "Paso 2 - …\n",
    "…\n",
    "Paso N - …\n",
    "\n",
    "Si el texto no contiene una secuencia de instrucciones, \\\n",
    "luego simplemente escriba \\\"No se proporcionan pasos.\\\"\n",
    "\n",
    "\\\"\\\"\\\"{text_2}\\\"\\\"\\\"\n",
    "\"\"\"\n",
    "response_2 = get_completion(prompt)\n",
    "print(\"complete el Texto 2:\")\n",
    "print(response_2)"
   ]
  },
  {
   "cell_type": "markdown",
   "id": "5072c7ba",
   "metadata": {},
   "source": [
    "Dentro de la instrucción se le indica que de no contener la información necesaria lo indique por pantalla, y en el primero podemos pedirle que simplemente de no encontrar la información suficiente la complete. "
   ]
  },
  {
   "cell_type": "code",
   "execution_count": null,
   "id": "2722d49a",
   "metadata": {},
   "outputs": [],
   "source": [
    "# solo resuelve la tarea si es que se cumplen las condiciones\n",
    "\n",
    "prompt = f\"\"\"\n",
    "Su tarea es responder en un estilo coherente.\n",
    "\n",
    "<niño>: Enséñame sobre la paciencia.\n",
    "\n",
    "<abuelo>: El río que talla lo más profundo \\\n",
    "valle fluye de un modesto manantial; el \\\n",
    "la sinfonía más grandiosa se origina en una sola nota; \\\n",
    "el tapiz más intrincado comienza con un hilo solitario.\n",
    "\n",
    "<niño>: Enséñame sobre la resiliencia.\n",
    "\"\"\"\n",
    "response = get_completion(prompt)\n",
    "print(response)"
   ]
  },
  {
   "cell_type": "markdown",
   "id": "07753b07",
   "metadata": {},
   "source": [
    "**Principio 2: Dale tiempo al modelo para que \"piense\"**"
   ]
  },
  {
   "cell_type": "code",
   "execution_count": null,
   "id": "982fde8e",
   "metadata": {},
   "outputs": [],
   "source": [
    "text = f\"\"\"\n",
    "En un encantador pueblo, los hermanos Jack y Jill emprenden \\\n",
    "una búsqueda para buscar agua en la cima de una colina \\\n",
    "Bueno. Mientras subían, cantando alegremente, la desgracia \\\n",
    "golpeado: Jack tropezó con una piedra y cayó \\\n",
    "colina abajo, con Jill siguiendo su ejemplo. \\\n",
    "Aunque un poco maltratadas, la pareja regresó a casa en \\\n",
    "abrazos reconfortantes. A pesar del percance, \\\n",
    "sus espíritus aventureros permanecieron intactos, y ellos \\\n",
    "siguieron explorando con deleite.\n",
    "\"\"\"\n",
    "# Ejemplo 1\n",
    "prompt_1 = f\"\"\"\n",
    "Realice las siguientes acciones:\n",
    "1 - Resume el siguiente texto delimitado por triple \\\n",
    "acentos graves con 1 oración.\n",
    "2 - Traducir el resumen al ingles .\n",
    "3 - Enumere cada nombre en el resumen en ingles.\n",
    "4 - Muestra un objeto json que contiene lo siguiente \\\n",
    "claves: english_summary, num_names.\n",
    "\n",
    "Separe sus respuestas con saltos de línea.\n",
    "\n",
    "Text:\n",
    "```{text}```\n",
    "\"\"\"\n",
    "response = get_completion(prompt_1)\n",
    "print(\"Complete el prompt 1:\")\n",
    "print(response)"
   ]
  },
  {
   "cell_type": "code",
   "execution_count": null,
   "id": "bc43275b",
   "metadata": {},
   "outputs": [],
   "source": [
    "#### Solicitar salida en un formato específico\n",
    "\n",
    "prompt_2 = f\"\"\"\n",
    "Su tarea es realizar las siguientes acciones:\n",
    "1 - Resume el siguiente texto delimitado por\n",
    "   <> con 1 oración.\n",
    "2 - Traducir el resumen al francés.\n",
    "3 - Enumere cada nombre en el resumen en francés.\n",
    "4 - Salida de un objeto json que contiene el\n",
    "   siguientes claves: french_summary, num_names.\n",
    "\n",
    "Utilice el siguiente formato:\n",
    "Texto: <texto para resumir>\n",
    "Resumen: <resumen>\n",
    "Traducción: <traducción resumida>\n",
    "Nombres: <lista de nombres en resumen italiano>\n",
    "Salida JSON: <json con resumen y num_names>\n",
    "\n",
    "Texto: <{text}>\n",
    "\"\"\"\n",
    "response = get_completion(prompt_2)\n",
    "print(\"\\nComplete el prompt 2:\")\n",
    "print(response)"
   ]
  },
  {
   "cell_type": "code",
   "execution_count": null,
   "id": "b95881a6",
   "metadata": {},
   "outputs": [],
   "source": [
    "# pedirle al modelo que e encuentre su propia solucion\n",
    "\n",
    "# el ejercicio la respuesta debe ser incorrecta pero como en principio el modelo actua rapido\n",
    "# no esta tomando el tiempo para hallar una propia solucion, sino que simplemente esta viendo la linea\n",
    "# costo total \n",
    "\n",
    "prompt = f\"\"\"\n",
    "Determinar si la solución del estudiante es correcta o no.\n",
    "\n",
    "Pregunta:\n",
    "Estoy construyendo una instalación de energía solar y necesito \\\n",
    "  ayudar a resolver las finanzas.\n",
    "- Terreno cuesta $100 / pie cuadrado\n",
    "- Puedo comprar paneles solares por $250/pie cuadrado\n",
    "- Negocié un contrato de mantenimiento que costará \\\n",
    "una cantidad plana de $ 100k por año y $ 10 adicionales / cuadrado \\\n",
    "pie\n",
    "¿Cuál es el costo total para el primer año de operaciones?\n",
    "en función del número de pies cuadrados.\n",
    "\n",
    "Solución del estudiante:\n",
    "Sea x el tamaño de la instalación en pies cuadrados.\n",
    "Costos:\n",
    "1. Costo de la tierra: 100x\n",
    "2. Costo del panel solar: 250x\n",
    "3. Costo de mantenimiento: 100,000 + 100x\n",
    "costo totall: 100x + 250x + 100,000 + 100x = 450x + 100,000\n",
    "\"\"\"\n",
    "response = get_completion(prompt)\n",
    "print(response)"
   ]
  },
  {
   "cell_type": "code",
   "execution_count": null,
   "id": "5a28b6ab",
   "metadata": {},
   "outputs": [],
   "source": [
    "# Ahora si vamos a indicarle previamente que el responda la pregunta y que luego de haberla resuelto, evalue\n",
    "# la respuesta del estudiante \n",
    "\n",
    "\n",
    "prompt = f\"\"\"\n",
    "Su tarea es determinar si la solución del estudiante \\\n",
    "es correcto o no.\n",
    "Para resolver el problema haz lo siguiente:\n",
    "- Primero, elabore su propia solución al problema.\n",
    "- Luego compare su solución con la solución del estudiante \\\n",
    "y evaluar si la solución del alumno es correcta o no.\n",
    "No decida si la solución del estudiante es correcta hasta que\n",
    "usted mismo ha hecho el problema y compare los pasos realizados por el estudiante \\\n",
    "si es que este omitio algo o no.\n",
    "\n",
    "Utilice el siguiente formato:\n",
    "Pregunta:\n",
    "```\n",
    "pregunta aquí\n",
    "```\n",
    "Solución del estudiante:\n",
    "```\n",
    "solución del estudiante aquí\n",
    "```\n",
    "solución real:\n",
    "```\n",
    "pasos para encontrar la solución y su solución aquí\n",
    "```\n",
    "¿Es la solución del estudiante la misma que la solución real?\n",
    "acaba de calcular:\n",
    "```\n",
    "sí o no\n",
    "```\n",
    "Grado del estudiante:\n",
    "```\n",
    "correcto o incorrecto\n",
    "```\n",
    "\n",
    "Pregunta:\n",
    "```\n",
    "Estoy construyendo una instalación de energía solar y necesito ayuda \\\n",
    "elaborando las finanzas.\n",
    "- Terreno cuesta $100 / pie cuadrado\n",
    "- Puedo comprar paneles solares por $250/pie cuadrado\n",
    "- Negocié un contrato de mantenimiento que costará \\\n",
    "una cantidad plana de $ 100k por año y $ 10 adicionales / cuadrado \\\n",
    "pie\n",
    "¿Cuál es el costo total para el primer año de operaciones?\n",
    "en función del número de pies cuadrados.\n",
    "```\n",
    "Solución del estudiante:\n",
    "```\n",
    "Sea x el tamaño de la instalación en pies cuadrados.\n",
    "Costos:\n",
    "1. Costo de la tierra: 100x\n",
    "2. Costo del panel solar: 250x\n",
    "3. Costo de mantenimiento: 100,000 + 100x\n",
    "Costo total: 100x + 250x + 100 000 + 100x = 450x + 100 000\n",
    "```\n",
    "solución real:\n",
    "\"\"\"\n",
    "response = get_completion(prompt)\n",
    "print(response)"
   ]
  },
  {
   "cell_type": "code",
   "execution_count": null,
   "id": "f2261f43",
   "metadata": {},
   "outputs": [],
   "source": [
    "prompt = f\"\"\"\n",
    "Your task is to determine if the student's solution \\\n",
    "is correct or not.\n",
    "To solve the problem do the following:\n",
    "- First, work out your own solution to the problem. \n",
    "- Then compare your solution to the student's solution \\ \n",
    "and evaluate if the student's solution is correct or not. \n",
    "Don't decide if the student's solution is correct until \n",
    "you have done the problem yourself.\n",
    "\n",
    "Use the following format:\n",
    "Question:\n",
    "```\n",
    "question here\n",
    "```\n",
    "Student's solution:\n",
    "```\n",
    "student's solution here\n",
    "```\n",
    "Actual solution:\n",
    "```\n",
    "steps to work out the solution and your solution here\n",
    "```\n",
    "Is the student's solution the same as actual solution \\\n",
    "just calculated:\n",
    "```\n",
    "yes or no\n",
    "```\n",
    "Student grade:\n",
    "```\n",
    "correct or incorrect\n",
    "```\n",
    "\n",
    "Question:\n",
    "```\n",
    "I'm building a solar power installation and I need help \\\n",
    "working out the financials. \n",
    "- Land costs $100 / square foot\n",
    "- I can buy solar panels for $250 / square foot\n",
    "- I negotiated a contract for maintenance that will cost \\\n",
    "me a flat $100k per year, and an additional $10 / square \\\n",
    "foot\n",
    "What is the total cost for the first year of operations \\\n",
    "as a function of the number of square feet.\n",
    "``` \n",
    "Student's solution:\n",
    "```\n",
    "Let x be the size of the installation in square feet.\n",
    "Costs:\n",
    "1. Land cost: 100x\n",
    "2. Solar panel cost: 250x\n",
    "3. Maintenance cost: 100,000 + 100x\n",
    "Total cost: 100x + 250x + 100,000 + 100x = 450x + 100,000\n",
    "```\n",
    "Actual solution:\n",
    "\"\"\"\n",
    "response = get_completion(prompt)\n",
    "print(response)"
   ]
  },
  {
   "cell_type": "markdown",
   "id": "e4eb3f2f",
   "metadata": {},
   "source": [
    "El modelo no lo sabe todo, y por lo tanto cuando no conoce la pregunta, este intenta responderla inventando cosas a lo que se le llama __alucinación__ para evitarlas, puede pedirsele al modelo que antes de contestar pueda buscar citas relevantes o use citas relevantes."
   ]
  },
  {
   "cell_type": "code",
   "execution_count": null,
   "id": "a08a20b6",
   "metadata": {},
   "outputs": [],
   "source": [
    "# mala práctica porque va a a tener alucinaciones el modelo \n",
    "\n",
    "prompt = f\"\"\"\n",
    "Cuéntame sobre el servicio de taxis inteligente ofrece AVIANCA en Colombia\n",
    "\"\"\"\n",
    "response = get_completion(prompt)\n",
    "print(response)"
   ]
  },
  {
   "cell_type": "markdown",
   "id": "2ba350d1",
   "metadata": {},
   "source": [
    "_____________________________________\n",
    "\n",
    "\n",
    "# Iterative Prompt Development\n",
    "\n",
    "En esta lección, analizarás y perfeccionarás de manera iterativa tus indicaciones para generar texto de marketing a partir de una hoja de datos del producto.\n",
    "\n",
    "## Configuración"
   ]
  },
  {
   "cell_type": "code",
   "execution_count": 10,
   "id": "68abfaa6",
   "metadata": {},
   "outputs": [],
   "source": [
    "fact_sheet_chair = \"\"\"\n",
    "DESCRIPCIÓN GENERAL\n",
    "- Parte de una hermosa familia de muebles de oficina inspirados en mediados de siglo,\n",
    "incluyendo archivadores, escritorios, estanterías, mesas de reuniones y más.\n",
    "- Varias opciones de color de carcasa y acabados de base.\n",
    "- Disponible con respaldo de plástico y tapizado frontal (SWC-100)\n",
    "o tapizado completo (SWC-110) en 10 opciones de tela y 6 de cuero.\n",
    "- Las opciones de acabado de la base son: acero inoxidable, negro mate,\n",
    "blanco brillo o cromo.\n",
    "- La silla está disponible con o sin reposabrazos.\n",
    "- Adecuado para entornos domésticos o comerciales.\n",
    "- Cualificado para uso por contrato.\n",
    "\n",
    "CONSTRUCCIÓN\n",
    "- Base de aluminio plastificado de 5 ruedas.\n",
    "- Ajuste neumático del sillón para subir/bajar fácilmente.\n",
    "\n",
    "DIMENSIONES\n",
    "-ANCHO 53CM | 20.87”\n",
    "- PROFUNDIDAD 51 CM | 20.08”\n",
    "- ALTURA 80 CM | 31.50”\n",
    "- ALTURA DEL ASIENTO 44 CM | 17,32”\n",
    "- PROFUNDIDAD DEL ASIENTO 41 CM | 16,14”\n",
    "\n",
    "OPCIONES\n",
    "- Opciones de ruedas para piso blando o duro.\n",
    "- Dos opciones de densidades de espuma de asiento:\n",
    "   medio (1,8 lb/ft3) o alto (2,8 lb/ft3)\n",
    "- Reposabrazos sin brazos o de PU de 8 posiciones\n",
    "\n",
    "MATERIALES\n",
    "CARCASA DE BASE DE PLANEADOR\n",
    "- Fundición de aluminio con recubrimiento de nylon PA6/PA66 modificado.\n",
    "- Grosor de la carcasa: 10 mm.\n",
    "ASIENTO\n",
    "-Espuma HD36\n",
    "\n",
    "PAÍS DE ORIGEN\n",
    "- Italia\n",
    "\"\"\""
   ]
  },
  {
   "cell_type": "code",
   "execution_count": 12,
   "id": "3c89e940",
   "metadata": {},
   "outputs": [
    {
     "name": "stdout",
     "output_type": "stream",
     "text": [
      "La silla de oficina de la familia de muebles de mediados de siglo es una adición elegante y funcional a cualquier espacio de trabajo. Con una variedad de opciones de color de carcasa y acabados de base, esta silla se adapta perfectamente a cualquier estilo de decoración. Además, puede elegir entre respaldo de plástico y tapizado frontal o tapizado completo en una amplia gama de opciones de tela y cuero. La silla está disponible con o sin reposabrazos y es adecuada para entornos domésticos o comerciales. La base de aluminio plastificado de 5 ruedas y el ajuste neumático del sillón permiten una fácil movilidad y ajuste de altura. Con opciones de ruedas para piso blando o duro y dos opciones de densidades de espuma de asiento, esta silla es completamente personalizable para satisfacer sus necesidades. La carcasa de base de planeador está hecha de fundición de aluminio con recubrimiento de nylon PA6/PA66 modificado y el asiento está hecho de espuma HD36. Fabricada en Italia, esta silla es de alta calidad y está calificada para uso por contrato.\n"
     ]
    }
   ],
   "source": [
    "prompt = f\"\"\"\n",
    "Su tarea es ayudar a un equipo de marketing a crear un\n",
    "descripción para un sitio web minorista de un producto basado\n",
    "en una ficha técnica.\n",
    "\n",
    "Escriba una descripción del producto basada en la información.\n",
    "previsto en las especificaciones técnicas delimitadas por\n",
    "triples tildes.\n",
    "\n",
    "Especificaciones técnicas: ```{fact_sheet_chair}```\n",
    "\"\"\"\n",
    "response = get_completion(prompt)\n",
    "print(response)\n"
   ]
  },
  {
   "cell_type": "code",
   "execution_count": 14,
   "id": "59df3d15",
   "metadata": {},
   "outputs": [
    {
     "data": {
      "text/plain": [
       "177"
      ]
     },
     "execution_count": 14,
     "metadata": {},
     "output_type": "execute_result"
    }
   ],
   "source": [
    "len(response.split())"
   ]
  },
  {
   "cell_type": "code",
   "execution_count": 15,
   "id": "9a1bdde4",
   "metadata": {},
   "outputs": [
    {
     "name": "stdout",
     "output_type": "stream",
     "text": [
      "La silla de oficina de la familia de muebles de mediados de siglo es una opción elegante y versátil para cualquier entorno doméstico o comercial. Con múltiples opciones de color y acabado, así como la elección de tapizado completo o parcial, esta silla es personalizable para adaptarse a cualquier estilo. La construcción de aluminio plastificado y el ajuste neumático del sillón hacen que sea fácil de usar, mientras que las opciones de ruedas y densidades de espuma de asiento permiten una mayor personalización. Disponible con o sin reposabrazos.\n"
     ]
    }
   ],
   "source": [
    "prompt = f\"\"\"\n",
    "Su tarea es ayudar a un equipo de marketing a crear un\n",
    "descripción para un sitio web minorista de un producto basado\n",
    "en una ficha técnica.\n",
    "\n",
    "Escriba una descripción del producto basada en la información.\n",
    "previsto en las especificaciones técnicas delimitadas por\n",
    "triples tildes.\n",
    "\n",
    "Utilice como máximo 50 palabras.\n",
    "\n",
    "Especificaciones técnicas: ```{fact_sheet_chair}```\n",
    "\"\"\"\n",
    "response = get_completion(prompt)\n",
    "print(response)\n"
   ]
  },
  {
   "cell_type": "code",
   "execution_count": 16,
   "id": "466eb0aa",
   "metadata": {},
   "outputs": [
    {
     "data": {
      "text/plain": [
       "88"
      ]
     },
     "execution_count": 16,
     "metadata": {},
     "output_type": "execute_result"
    }
   ],
   "source": [
    "len(response.split(\" \"))"
   ]
  },
  {
   "cell_type": "markdown",
   "id": "60ccc108",
   "metadata": {},
   "source": [
    "## Problema 2. El texto se enfoca en los detalles incorrectos\n",
    "- Pídele que se centre en los aspectos que son relevantes para el público objetivo."
   ]
  },
  {
   "cell_type": "code",
   "execution_count": 18,
   "id": "7c1beada",
   "metadata": {},
   "outputs": [
    {
     "name": "stdout",
     "output_type": "stream",
     "text": [
      "La silla de oficina de la familia de muebles de mediados de siglo está disponible en varios colores de carcasa y acabados de base. Con opciones de respaldo de plástico y tapizado frontal o tapizado completo en diferentes telas y cueros. La base de aluminio plastificado de 5 ruedas tiene ajuste neumático para subir/bajar fácilmente. Adecuado para entornos domésticos o comerciales. Fabricado en Italia.\n"
     ]
    }
   ],
   "source": [
    "prompt = f\"\"\"\n",
    "Su tarea es ayudar a un equipo de marketing a crear un\n",
    "descripción para un sitio web minorista de un producto basado\n",
    "en una ficha técnica.\n",
    "\n",
    "Escriba una descripción del producto basada en la información.\n",
    "previsto en las especificaciones técnicas delimitadas por\n",
    "triples tildes.\n",
    "\n",
    "La descripción está destinada a minoristas de muebles,\n",
    "por lo que debe ser de naturaleza técnica y centrarse en la\n",
    "materiales con los que está construido el producto.\n",
    "\n",
    "Utilice como máximo 50 palabras.\n",
    "\n",
    "Especificaciones técnicas: ```{fact_sheet_chair}```\n",
    "\"\"\"\n",
    "response = get_completion(prompt)\n",
    "print(response)"
   ]
  },
  {
   "cell_type": "code",
   "execution_count": 19,
   "id": "da3073a2",
   "metadata": {},
   "outputs": [
    {
     "name": "stdout",
     "output_type": "stream",
     "text": [
      "La silla de oficina SWC es parte de una hermosa familia de muebles de oficina inspirados en mediados de siglo. Con varias opciones de color de carcasa y acabados de base, esta silla está disponible con respaldo de plástico y tapizado frontal o tapizado completo en 10 opciones de tela y 6 de cuero. La base de aluminio plastificado de 5 ruedas y el ajuste neumático del sillón hacen que sea fácil de subir y bajar. La silla está disponible con o sin reposabrazos y es adecuada para entornos domésticos o comerciales. La carcasa de base de planeador está hecha de fundición de aluminio con recubrimiento de nylon PA6/PA66 modificado y el asiento está hecho de espuma HD36. Hecho en Italia. (SWC-100/SWC-110)\n"
     ]
    }
   ],
   "source": [
    "prompt = f\"\"\"\n",
    "Su tarea es ayudar a un equipo de marketing a crear un\n",
    "descripción para un sitio web minorista de un producto basado\n",
    "en una ficha técnica.\n",
    "\n",
    "Escriba una descripción del producto basada en la información.\n",
    "previsto en las especificaciones técnicas delimitadas por\n",
    "triples tildes.\n",
    "\n",
    "La descripción está destinada a minoristas de muebles,\n",
    "por lo que debe ser de naturaleza técnica y centrarse en la\n",
    "materiales con los que está construido el producto.\n",
    "\n",
    "Al final de la descripción, incluya cada 7 caracteres\n",
    "Identificación del producto en la especificación técnica.\n",
    "\n",
    "Utilice como máximo 50 palabras.\n",
    "\n",
    "Especificaciones técnicas: ```{fact_sheet_chair}```\n",
    "\"\"\"\n",
    "response = get_completion(prompt)\n",
    "print(response)"
   ]
  },
  {
   "cell_type": "markdown",
   "id": "26e0bf78",
   "metadata": {},
   "source": [
    "## Problema 3. La descripción necesita una tabla de dimensiones\n",
    "- Pedir que extraiga información y la organice en una tabla."
   ]
  },
  {
   "cell_type": "code",
   "execution_count": 25,
   "id": "0b926c5a",
   "metadata": {},
   "outputs": [
    {
     "name": "stdout",
     "output_type": "stream",
     "text": [
      "<div>\n",
      "<h2>Silla de oficina inspirada en mediados de siglo</h2>\n",
      "<p>La silla de oficina de la familia de muebles de mediados de siglo es una opción elegante y funcional para cualquier entorno doméstico o comercial. Con varias opciones de color de carcasa y acabados de base, esta silla está disponible con o sin reposabrazos y cuenta con un ajuste neumático del sillón para subir/bajar fácilmente. La carcasa de base de planeador está hecha de fundición de aluminio con recubrimiento de nylon PA6/PA66 modificado, mientras que el asiento está hecho de espuma HD36. La silla está disponible con respaldo de plástico y tapizado frontal o tapizado completo en 10 opciones de tela y 6 de cuero. </p>\n",
      "<p>ID del producto: SWC-100 / SWC-110</p>\n",
      "</div>\n",
      "\n",
      "<table>\n",
      "  <caption>Dimensiones del producto</caption>\n",
      "  <tr>\n",
      "    <th>Dimensión</th>\n",
      "    <th>Medida (pulgadas)</th>\n",
      "  </tr>\n",
      "  <tr>\n",
      "    <td>Ancho</td>\n",
      "    <td>20.87\"</td>\n",
      "  </tr>\n",
      "  <tr>\n",
      "    <td>Profundidad</td>\n",
      "    <td>20.08\"</td>\n",
      "  </tr>\n",
      "  <tr>\n",
      "    <td>Altura</td>\n",
      "    <td>31.50\"</td>\n",
      "  </tr>\n",
      "  <tr>\n",
      "    <td>Altura del asiento</td>\n",
      "    <td>17.32\"</td>\n",
      "  </tr>\n",
      "  <tr>\n",
      "    <td>Profundidad del asiento</td>\n",
      "    <td>16.14\"</td>\n",
      "  </tr>\n",
      "</table>\n"
     ]
    }
   ],
   "source": [
    "prompt = f\"\"\"\n",
    "Su tarea es ayudar a un equipo de marketing a crear un\n",
    "descripción para un sitio web minorista de un producto basado\n",
    "en una ficha técnica.\n",
    "\n",
    "Escriba una descripción del producto basada en la información.\n",
    "previsto en las especificaciones técnicas delimitadas por\n",
    "triples tildes.\n",
    "\n",
    "La descripción está destinada a minoristas de muebles,\n",
    "por lo que debe ser de naturaleza técnica y centrarse en la\n",
    "materiales con los que está construido el producto.\n",
    "\n",
    "Utilice un promedio de 100 palabras para la descripción y añada un titulo a la descripción.\n",
    "\n",
    "Al final de la descripción, incluya cada 7 caracteres\n",
    "Identificación del producto en la especificación técnica.\n",
    "\n",
    "Después de la descripción, incluya una tabla que dé la\n",
    "dimensiones del producto. La tabla debe tener dos columnas.\n",
    "En la primera columna incluya el nombre de la dimensión.\n",
    "En la segunda columna incluya las medidas en pulgadas solamente.\n",
    "\n",
    "Asigne a la tabla el título 'Dimensiones del producto'.\n",
    "\n",
    "Formatee todo como HTML que se pueda usar en un sitio web.\n",
    "Coloque la descripción en un elemento <div>.\n",
    "\n",
    "Especificaciones técnicas: ```{fact_sheet_chair}```\n",
    "\"\"\"\n",
    "\n",
    "response = get_completion(prompt)\n",
    "print(response)"
   ]
  },
  {
   "cell_type": "code",
   "execution_count": 26,
   "id": "69e307c4",
   "metadata": {},
   "outputs": [
    {
     "data": {
      "text/html": [
       "<div>\n",
       "<h2>Silla de oficina inspirada en mediados de siglo</h2>\n",
       "<p>La silla de oficina de la familia de muebles de mediados de siglo es una opción elegante y funcional para cualquier entorno doméstico o comercial. Con varias opciones de color de carcasa y acabados de base, esta silla está disponible con o sin reposabrazos y cuenta con un ajuste neumático del sillón para subir/bajar fácilmente. La carcasa de base de planeador está hecha de fundición de aluminio con recubrimiento de nylon PA6/PA66 modificado, mientras que el asiento está hecho de espuma HD36. La silla está disponible con respaldo de plástico y tapizado frontal o tapizado completo en 10 opciones de tela y 6 de cuero. </p>\n",
       "<p>ID del producto: SWC-100 / SWC-110</p>\n",
       "</div>\n",
       "\n",
       "<table>\n",
       "  <caption>Dimensiones del producto</caption>\n",
       "  <tr>\n",
       "    <th>Dimensión</th>\n",
       "    <th>Medida (pulgadas)</th>\n",
       "  </tr>\n",
       "  <tr>\n",
       "    <td>Ancho</td>\n",
       "    <td>20.87\"</td>\n",
       "  </tr>\n",
       "  <tr>\n",
       "    <td>Profundidad</td>\n",
       "    <td>20.08\"</td>\n",
       "  </tr>\n",
       "  <tr>\n",
       "    <td>Altura</td>\n",
       "    <td>31.50\"</td>\n",
       "  </tr>\n",
       "  <tr>\n",
       "    <td>Altura del asiento</td>\n",
       "    <td>17.32\"</td>\n",
       "  </tr>\n",
       "  <tr>\n",
       "    <td>Profundidad del asiento</td>\n",
       "    <td>16.14\"</td>\n",
       "  </tr>\n",
       "</table>"
      ],
      "text/plain": [
       "<IPython.core.display.HTML object>"
      ]
     },
     "metadata": {},
     "output_type": "display_data"
    }
   ],
   "source": [
    "display(HTML(response))"
   ]
  },
  {
   "cell_type": "markdown",
   "id": "b85e5727",
   "metadata": {},
   "source": [
    "# Resumiendo\n",
    "En esta lección, resumirá el texto centrándose en temas específicos.\n",
    "\n",
    "## Configuración"
   ]
  },
  {
   "cell_type": "code",
   "execution_count": 27,
   "id": "9fbfbeb6",
   "metadata": {},
   "outputs": [],
   "source": [
    "prod_review = \"\"\"\n",
    "Recibí este peluche de panda para el cumpleaños de mi hija, \\\n",
    "que lo ama y lo lleva a todas partes. es suave y \\\n",
    "super lindo, y su cara tiene una mirada amistosa. Es \\\n",
    "aunque un poco pequeño para lo que pagué. Creo que ahi \\\n",
    "podría haber otras opciones que son más grandes para el \\\n",
    "mismo precio. Llegó un día antes de lo esperado, \\\n",
    "así que tuve que jugar con él antes de darlo \\\n",
    "a ella.\n",
    "\"\"\""
   ]
  },
  {
   "cell_type": "code",
   "execution_count": 29,
   "id": "4b97cdee",
   "metadata": {},
   "outputs": [
    {
     "name": "stdout",
     "output_type": "stream",
     "text": [
      "```Peluche de panda suave y lindo, pero un poco pequeño para el precio. Entrega rápida.```\n"
     ]
    }
   ],
   "source": [
    "# Resumir con un límite de palabras/frases/caracteres\n",
    "\n",
    "prompt = f\"\"\"\n",
    "Su tarea es generar un breve resumen de un producto \\\n",
    "revisión de un sitio de comercio electrónico.\n",
    "\n",
    "Resuma la revisión a continuación, delimitada por triple\n",
    "acentos graves, en un máximo de 30 palabras.\n",
    "\n",
    "Revisar:```{prod_review}```\n",
    "\"\"\"\n",
    "\n",
    "response = get_completion(prompt)\n",
    "print(response)\n"
   ]
  },
  {
   "cell_type": "code",
   "execution_count": 30,
   "id": "a417bfc4",
   "metadata": {},
   "outputs": [
    {
     "name": "stdout",
     "output_type": "stream",
     "text": [
      "El peluche de panda es suave y lindo, pero un poco pequeño para el precio. Llegó un día antes de lo esperado.\n"
     ]
    }
   ],
   "source": [
    "prompt = f\"\"\"\n",
    "Su tarea es generar un breve resumen de un producto \\\n",
    "revisión de un sitio de comercio electrónico para dar retroalimentación a la \\\n",
    "Departamento de envíos.\n",
    "\n",
    "Resuma la revisión a continuación, delimitada por triple\n",
    "acentos graves, en un máximo de 30 palabras, y centrándose en cualquier aspecto \\\n",
    "que mencionan el envío y la entrega del producto.\n",
    "\n",
    "Revisar:```{prod_review}```\n",
    "\"\"\"\n",
    "\n",
    "response = get_completion(prompt)\n",
    "print(response)\n"
   ]
  },
  {
   "cell_type": "code",
   "execution_count": 31,
   "id": "ef3e7511",
   "metadata": {},
   "outputs": [
    {
     "name": "stdout",
     "output_type": "stream",
     "text": [
      "El peluche de panda es suave y lindo, pero un poco pequeño para el precio pagado. Se sugiere buscar opciones más grandes por el mismo precio. La entrega fue rápida.\n"
     ]
    }
   ],
   "source": [
    "# enfocados en el precio\n",
    "\n",
    "prompt = f\"\"\"\n",
    "Su tarea es generar un breve resumen de un producto \\\n",
    "revisión de un sitio de comercio electrónico para dar retroalimentación a la \\\n",
    "departamento de precios, responsable de determinar el \\\n",
    "precio del producto\n",
    "\n",
    "Resuma la revisión a continuación, delimitada por triple\n",
    "acentos graves, en un máximo de 30 palabras, y centrándose en cualquier aspecto \\\n",
    "que son relevantes para el precio y el valor percibido.\n",
    "\n",
    "Revisar: ```{prod_review}```\n",
    "\"\"\"\n",
    "\n",
    "response = get_completion(prompt)\n",
    "print(response)\n"
   ]
  },
  {
   "cell_type": "code",
   "execution_count": 33,
   "id": "ed700f3e",
   "metadata": {},
   "outputs": [
    {
     "name": "stdout",
     "output_type": "stream",
     "text": [
      "El peluche de panda es suave y lindo, pero un poco pequeño para el precio. Llegó un día antes de lo esperado.\n"
     ]
    }
   ],
   "source": [
    "# foco en EXTRAER información\n",
    "\n",
    "prompt = f\"\"\"\n",
    "Su tarea es extraer información relevante de \\\n",
    "una revisión de producto de un sitio de comercio electrónico para dar \\\n",
    "comentarios al departamento de envíos.\n",
    "\n",
    "De la revisión a continuación, delimitada por comillas triples \\\n",
    "EXTRAER la información relevante para el envío y \\\n",
    "entrega. Limite a 30 palabras.\n",
    "\n",
    "Revisar: ```{prod_review}```\n",
    "\"\"\"\n",
    "\n",
    "response = get_completion(prompt)\n",
    "print(response)"
   ]
  },
  {
   "cell_type": "code",
   "execution_count": 34,
   "id": "6f1dc9ef",
   "metadata": {},
   "outputs": [],
   "source": [
    "\n",
    "review_1 = prod_review \n",
    "\n",
    "# review for a standing lamp\n",
    "review_2 = \"\"\"\n",
    "Necesitaba una linda lámpara para mi dormitorio, y esta \\\n",
    "tenía almacenamiento adicional y un precio no demasiado alto \\\n",
    "punto. Lo tengo rápido - llegó en 2 días. La cuerda \\\n",
    "a la lámpara se rompió durante el tránsito y la empresa \\\n",
    "felizmente envió uno nuevo. Llegó a los pocos días \\\n",
    "también. Fue fácil de armar. Luego tuve un \\\n",
    "parte faltante, así que me puse en contacto con su soporte y ellos \\\n",
    "muy rápidamente me consiguió la pieza que falta! Me parece \\\n",
    "ser una gran empresa que se preocupa por sus clientes \\\n",
    "y productos\n",
    "\"\"\"\n",
    "\n",
    "# review for an electric toothbrush\n",
    "review_3 = \"\"\"\n",
    "Mi higienista dental me recomendó un cepillo de dientes eléctrico, \\\n",
    "por eso tengo esto. La duración de la batería parece ser \\\n",
    "bastante impresionante hasta ahora. Después de la carga inicial y \\\n",
    "dejando el cargador enchufado durante la primera semana para \\\n",
    "acondicionar la bateria, he desenchufado el cargador y \\\n",
    "lo he estado usando para el cepillado dos veces al día durante el último \\\n",
    "3 semanas todo con el mismo cargo. Pero el cabezal del cepillo de dientes \\\n",
    "Es demasiado pequeño. He visto cepillos de dientes para bebés más grandes que \\\n",
    "Éste. Desearía que la cabeza fuera más grande con diferentes \\\n",
    "cerdas largas para meterse mejor entre los dientes porque \\\n",
    "este no. En general, si puedes conseguir este \\\n",
    "alrededor de la marca de $ 50, es una buena oferta. El fabricante \\\n",
    "los cabezales de repuesto son bastante caros, pero puedes \\\n",
    "obtener los genéricos que tienen un precio más razonable. Este \\\n",
    "cepillo de dientes me hace sentir como si hubiera ido al dentista \\\n",
    "cada día. ¡Mis dientes se sienten limpios y relucientes!\n",
    "\"\"\"\n",
    "\n",
    "# review for a blender\n",
    "review_4 = \"\"\"\n",
    "Entonces, todavía tenían el sistema de 17 piezas en temporada \\\n",
    "venta por alrededor de $ 49 en el mes de noviembre, alrededor de \\\n",
    "mitad de descuento, pero por alguna razón (llámalo aumento de precios) \\\n",
    "alrededor de la segunda semana de diciembre todos los precios subieron \\\n",
    "hasta alrededor de $70-$89 por el mismo \\\n",
    "sistema. Y el sistema de 11 piezas subió alrededor de $10 o \\\n",
    "así que en precio también desde el precio de venta anterior de $29. \\\n",
    "Entonces se ve bien, pero si miras la base, la parte \\\n",
    "donde la hoja se traba en su lugar no se ve tan bien \\\n",
    "como en ediciones anteriores de hace unos años, pero yo \\\n",
    "planeo ser muy gentil con él (ejemplo, aplasto \\\n",
    "artículos muy duros como frijoles, hielo, arroz, etc. en el \\\n",
    "licuadora primero y luego pulverícelos en el tamaño de la porción \\\n",
    "Quiero en la licuadora luego cambiar a la batida \\\n",
    "hoja para una harina más fina, y use la hoja de corte transversal \\\n",
    "primero cuando haga batidos, luego use la cuchilla plana \\\n",
    "si los necesito más finos/menos pulposos). Consejo especial al hacer \\\n",
    "batidos, corte finamente y congele las frutas y \\\n",
    "Verduras (si usa espinacas, estofado ligeramente, ablande el \\\n",
    "espinaca luego congélela hasta que esté lista para usar, y si está haciendo \\\n",
    "sorbete, use un procesador de alimentos de tamaño pequeño a mediano) \\\n",
    "que planea usar de esa manera puede evitar agregar \\\n",
    "mucho hielo, si es que lo hay, al hacer su batido. \\\n",
    "Después de aproximadamente un año, el motor estaba haciendo un ruido raro. \\\n",
    "Llamé al servicio de atención al cliente pero la garantía expiró \\\n",
    "ya, así que tuve que comprar otro. FYI: El \\ general\n",
    "la calidad se ha hecho en este tipo de productos, por lo que \\\n",
    "en cierto modo cuentan con el reconocimiento de la marca y \\\n",
    "fidelización del consumidor para mantener las ventas. Lo tengo en alrededor de \\\n",
    "dos días.\n",
    "\"\"\"\n",
    "\n",
    "reviews = [review_1, review_2, review_3, review_4]\n",
    "\n"
   ]
  },
  {
   "cell_type": "markdown",
   "id": "43f77368",
   "metadata": {},
   "source": [
    "for i in range(len(reviews)):\n",
    "    prompt = f\"\"\"\n",
    "     Su tarea es generar un breve resumen de un producto \\\n",
    "     revisión de un sitio de comercio electrónico.\n",
    "\n",
    "     Resuma la revisión a continuación, delimitada por triple \\\n",
    "     acentos graves en un máximo de 20 palabras.\n",
    "\n",
    "     Revisar: ```{reviews[i]}```\n",
    "    \"\"\"\n",
    "\n",
    "    response = get_completion(prompt)\n",
    "    print(i, response, \"\\n\")\n",
    "\n",
    "Esto es un error porque mi API no tiene la capacidad de hacer solicitudes multiples a chatgpt"
   ]
  },
  {
   "cell_type": "markdown",
   "id": "bf472c14",
   "metadata": {},
   "source": [
    "_______________________________________________________\n",
    "\n",
    "Inferencias"
   ]
  },
  {
   "cell_type": "code",
   "execution_count": 5,
   "id": "8b6f4b27",
   "metadata": {},
   "outputs": [],
   "source": [
    "lamp_review = \"\"\"\n",
    "\n",
    "Necesito una buena lampara para mi habitacion, y esta tiene \\\n",
    "almacenamiento adicional y un precio no demasiado alto.\\\n",
    "Lo tengo rápido. La cuerda de nuestra lámpara se rompió durante el \\\n",
    "transito y la compañía felizmente envió uno nuevo. \\\n",
    "Llegó a los pocos días también. Fue fácil de poner. Me faltaba una pieza, así que contacté a su \\\n",
    "apoyo y muy rápidamente me consiguieron la pieza que faltaba! \\\n",
    "Lumina me parece una gran empresa que se preocupa \\\n",
    "sobre sus clientes y productos\n",
    "\n",
    "\"\"\""
   ]
  },
  {
   "cell_type": "code",
   "execution_count": 12,
   "id": "900a091e",
   "metadata": {},
   "outputs": [
    {
     "data": {
      "text/plain": [
       "'El sentimiento de la opinión es positivo y satisfecho con el producto y la empresa.'"
      ]
     },
     "execution_count": 12,
     "metadata": {},
     "output_type": "execute_result"
    }
   ],
   "source": [
    "# prompt para clasificar el sentimiento\n",
    "\n",
    "prompt = f\"\"\"\n",
    "\n",
    "¿Cuál es el sentimiento de la siguiente opinion de producto\n",
    "el cual esta delimitado con comillas.\n",
    "\n",
    "Revision de texto '''{lamp_review}'''\n",
    "\n",
    "\"\"\"\n",
    "\n",
    "response = get_completion(prompt)\n",
    "response"
   ]
  },
  {
   "cell_type": "code",
   "execution_count": 13,
   "id": "e0da49d6",
   "metadata": {},
   "outputs": [
    {
     "data": {
      "text/plain": [
       "'Positivo.'"
      ]
     },
     "execution_count": 13,
     "metadata": {},
     "output_type": "execute_result"
    }
   ],
   "source": [
    "# prompt para clasificar el sentimiento\n",
    "\n",
    "prompt = f\"\"\"\n",
    "\n",
    "¿Cuál es el sentimiento de la siguiente opinion de producto\n",
    "el cual esta delimitado con comillas.\n",
    "\n",
    "Dame tu respuesta en una sola plabra, puede ser \"poistivo\" o \\\n",
    "\"negativo\"\n",
    "\n",
    "Revision de texto '''{lamp_review}'''\n",
    "\n",
    "\"\"\"\n",
    "\n",
    "response = get_completion(prompt)\n",
    "response"
   ]
  },
  {
   "cell_type": "code",
   "execution_count": 15,
   "id": "815dc031",
   "metadata": {},
   "outputs": [
    {
     "data": {
      "text/plain": [
       "'contento, satisfecho, agradecido, confiado, impresionado.'"
      ]
     },
     "execution_count": 15,
     "metadata": {},
     "output_type": "execute_result"
    }
   ],
   "source": [
    "prompt = f\"\"\"\n",
    "\n",
    "Identifica una lista de emociones que que el escritor \\\n",
    "de la siguiente reseña esta expresando. Incluya no más que \\\n",
    "cinco ítems en una lista. El formato de tu respuesta es como una lista de \\\n",
    "palabras minusculas separadas por comas\n",
    "\n",
    "Revision de texto '''{lamp_review}'''\n",
    "\n",
    "\"\"\"\n",
    "\n",
    "response = get_completion(prompt)\n",
    "response"
   ]
  },
  {
   "cell_type": "code",
   "execution_count": 16,
   "id": "c90f018a",
   "metadata": {},
   "outputs": [
    {
     "data": {
      "text/plain": [
       "'No.'"
      ]
     },
     "execution_count": 16,
     "metadata": {},
     "output_type": "execute_result"
    }
   ],
   "source": [
    "prompt = f\"\"\"\n",
    "\n",
    "¿El escrito de la siguiente revision expresa enojo? \\\n",
    "La revision esta delimitada por triple comillas. \\\n",
    "Entregue una respuesta como Si o No.\n",
    "\n",
    "Revision de texto '''{lamp_review}'''\n",
    "\"\"\"\n",
    "\n",
    "response = get_completion(prompt)\n",
    "response"
   ]
  },
  {
   "cell_type": "code",
   "execution_count": 18,
   "id": "91bff41c",
   "metadata": {},
   "outputs": [
    {
     "data": {
      "text/plain": [
       "'{\\n  \"Item\": \"Lámpara con almacenamiento adicional\",\\n  \"Marca\": \"Lumina\"\\n}'"
      ]
     },
     "execution_count": 18,
     "metadata": {},
     "output_type": "execute_result"
    }
   ],
   "source": [
    "prompt = f\"\"\"\n",
    "Identifica los siguientes ítems del texto de revision:\n",
    "- Item comprado por revisor\n",
    "- Compañia que hace el ítem\n",
    "\n",
    "La revision esta delimitada con triple comillas. \\\n",
    "El formato de tu respuesta como un objecto JSON \\\n",
    "con \"Item\" y \"Marca\" como llaves.\n",
    "\n",
    "Si la información no esta presente, use \"desconocido\" \\\n",
    "como el valor.\n",
    "Haz tu respuesta lo más corta posible\n",
    "\n",
    "revision texto: '''{lamp_review}'''\n",
    "\n",
    "\"\"\"\n",
    "\n",
    "response = get_completion(prompt)\n",
    "response"
   ]
  },
  {
   "cell_type": "code",
   "execution_count": 28,
   "id": "5092f179",
   "metadata": {},
   "outputs": [
    {
     "name": "stdout",
     "output_type": "stream",
     "text": [
      "{\n",
      "  \"Sentimientos\": \"Positivo\",\n",
      "  \"Enojado\": false,\n",
      "  \"Item\": \"Lámpara con almacenamiento adicional\",\n",
      "  \"Marca\": \"Lumina\"\n",
      "}\n"
     ]
    }
   ],
   "source": [
    "prompt = f\"\"\"\n",
    "Identifique los siguientes ítems de las revisiones de texto:\n",
    "- sentimientos (positivo o negativo)\n",
    "- ¿La revision expresa enojo? (true or false)\n",
    "- Item comprado por revisor\n",
    "- Compañia que hace el ítem\n",
    "\n",
    "La revision esta delilmitada con triple comillas. \\\n",
    "Formato de tu respuesta como un objeto JSON con: \\\n",
    "\"Sentimientos\", \"Enojado\", \"Item\" y \"Marca\" como llaves.\n",
    "Si la información no esta presente, use \"Desconocido\" \\\n",
    "como valor.\n",
    "Haz tu respuesta lo más corta posible. \n",
    "Formato del valor de Enojado entregelo como un boleano.\n",
    "\n",
    "Recuerde que debe entregar en formato JSON funcional.\n",
    "\n",
    "\n",
    "Revision de texto '''{lamp_review}'''\n",
    "\n",
    "\"\"\"\n",
    "\n",
    "response = get_completion(prompt)\n",
    "print(response)"
   ]
  },
  {
   "cell_type": "code",
   "execution_count": 29,
   "id": "94db6a10",
   "metadata": {},
   "outputs": [],
   "source": [
    "story = \"\"\"\n",
    "En una reciente encuesta realizada por el gobierno,\n",
    "se les pregunto a los empleados del sector público que calificaran el nivel\n",
    "de satisfacción con el departamento donde ellos trabajan.\n",
    "El resultado revela que la NASA fue el departamento más popular\n",
    "con una calificación de satisfacción del 95%\n",
    "\n",
    "Un empleado de la NASA, John Smith, comento sobre los hallazgos,\n",
    "\"No estoy sorprendido que la NASA este en la parte superior.\n",
    "Este es un lugar genial para trabajar con personas maravillozas y \n",
    "increibles oportunidades. Estoy orgulloso de ser parte de cada \n",
    "innovación de la organización.\"\n",
    "\n",
    "El resultado fue también recibido por el equipo administrador de la NASA,\n",
    "su Director Tom Johnson declaró, \"Nosotros estamos emocionados de\n",
    "escuchar que nuestros empleados estan satisfechos con el trabajo de la NASA,\n",
    "Nosotros tenemos un talentoso y dedicado equipo quien trabaja incansablemente\n",
    "para lograr nuestras metas, y esto es fantastico de ver que el trabajo\n",
    "duro esta dando sus frutos\"\n",
    "\n",
    "La encuesta también revelo que la Administración de Seguridad Social tiene\n",
    "la más baja calificación de satisfacción, con solo el 45% de empleados estan\n",
    "satisfechos con su trabajo. El goberino se ha comprometido a abordar las inquietudes\n",
    "planteadas por los empleados en la encuesta y trabajar para mejorar la satisfaccion de \n",
    "todo el departamento\n",
    "\n",
    "\"\"\""
   ]
  },
  {
   "cell_type": "code",
   "execution_count": 34,
   "id": "d37872a0",
   "metadata": {},
   "outputs": [
    {
     "name": "stdout",
     "output_type": "stream",
     "text": [
      "Encuesta de satisfacción, Sector público, NASA, Administración de Seguridad Social, Mejora de satisfacción.\n"
     ]
    }
   ],
   "source": [
    "prompt = f\"\"\"\n",
    "Determine cinco temas que estan siendo discutidos en \\\n",
    "el siguiente texto, el cual esta delimitado por trible comillas.\n",
    "\n",
    "Haz por cada item una palabra o dos palabras de largo.\n",
    "\n",
    "El formato de tu respuesta debe ser es una lista (list) separadas por comas.\n",
    "\n",
    "Texto de muestra: '''{story}'''\n",
    "\n",
    "\"\"\"\n",
    "\n",
    "response = get_completion(prompt)\n",
    "print(response)"
   ]
  },
  {
   "cell_type": "code",
   "execution_count": 52,
   "id": "f7e22d97",
   "metadata": {},
   "outputs": [],
   "source": [
    "topic_list = ['Encuesta de satisfacción',\n",
    " ' Sector público',\n",
    " ' NASA',\n",
    " ' Tienda de mascotas',\n",
    " ' Mejora de satisfacción.']"
   ]
  },
  {
   "cell_type": "code",
   "execution_count": 53,
   "id": "d651a3c9",
   "metadata": {},
   "outputs": [
    {
     "name": "stdout",
     "output_type": "stream",
     "text": [
      "- Encuesta de satisfacción: 1\n",
      "- Sector público: 1\n",
      "- NASA: 1\n",
      "- Tienda de mascotas: 0\n",
      "- Mejora de satisfacción: 1\n"
     ]
    }
   ],
   "source": [
    "prompt = f\"\"\"\n",
    "Determine si cada item en la siguiente lista de temas \\\n",
    "es un tema in el siguiente texto, el cual esta delimitado por\n",
    "triple comillas \n",
    "\n",
    "El formato de tu respuesta es una lista que incluye 0 o 1 por cada tema\\\n",
    "\n",
    "\n",
    "Lista de temas: {\", \".join(topic_list)}\n",
    "\n",
    "Texto de muestra: '''{story}'''\n",
    "\n",
    "\"\"\"\n",
    "\n",
    "response = get_completion(prompt)\n",
    "print(response)"
   ]
  },
  {
   "cell_type": "code",
   "execution_count": 50,
   "id": "6c343717",
   "metadata": {},
   "outputs": [
    {
     "name": "stdout",
     "output_type": "stream",
     "text": [
      "ALERT: New NASA story!\n"
     ]
    }
   ],
   "source": [
    "topic_dict = {i.split(': ')[0]: int(i.split(': ')[1]) for i in response.split(sep='\\n')}\n",
    "if topic_dict['- NASA'] == 1:\n",
    "    print(\"ALERT: New NASA story!\")"
   ]
  },
  {
   "cell_type": "code",
   "execution_count": 5,
   "id": "4eb498b7",
   "metadata": {},
   "outputs": [
    {
     "name": "stdout",
     "output_type": "stream",
     "text": [
      "Hola, me gustaría ordenar una licuadora.\n"
     ]
    }
   ],
   "source": [
    "# Traducciones \n",
    "\n",
    "prompt = f\"\"\"\n",
    "Translate the following English text to Spanish: \\ \n",
    "```Hi, I would like to order a blender```\n",
    "\"\"\"\n",
    "response = get_completion(prompt)\n",
    "print(response)"
   ]
  },
  {
   "cell_type": "code",
   "execution_count": 6,
   "id": "769b3330",
   "metadata": {},
   "outputs": [
    {
     "name": "stdout",
     "output_type": "stream",
     "text": [
      "Este lenguaje es francés.\n"
     ]
    }
   ],
   "source": [
    "# reconociendo el idioma\n",
    "\n",
    "prompt = f\"\"\"\n",
    "Dime cual es este lenguaje: \n",
    "```Combien coûte le lampadaire?```\n",
    "\"\"\"\n",
    "response = get_completion(prompt)\n",
    "print(response)"
   ]
  },
  {
   "cell_type": "code",
   "execution_count": 7,
   "id": "c7828990",
   "metadata": {},
   "outputs": [
    {
     "name": "stdout",
     "output_type": "stream",
     "text": [
      "Español: Quiero ordenar una pelota de baloncesto.\n",
      "Francés: Je veux commander un ballon de basket.\n",
      "Español pirata: Quiero pedir una pelota de baloncesto, ¡arr!\n"
     ]
    }
   ],
   "source": [
    "prompt = f\"\"\"\n",
    "Traduzca el siguiente texto a frances, español y español pirata\n",
    "\n",
    "```I want to order a basketball```\n",
    "\"\"\"\n",
    "response = get_completion(prompt)\n",
    "print(response)"
   ]
  },
  {
   "cell_type": "code",
   "execution_count": 8,
   "id": "28a02cd5",
   "metadata": {},
   "outputs": [
    {
     "name": "stdout",
     "output_type": "stream",
     "text": [
      "Formal: ¿Le gustaría ordenar una almohada?\n",
      "Informal: ¿Te gustaría ordenar una almohada?\n"
     ]
    }
   ],
   "source": [
    "prompt = f\"\"\"\n",
    "Translate the following text to Spanish in both the \\\n",
    "formal and informal forms: \n",
    "'Would you like to order a pillow?'\n",
    "\"\"\"\n",
    "response = get_completion(prompt)\n",
    "print(response)"
   ]
  },
  {
   "cell_type": "code",
   "execution_count": 9,
   "id": "0189acfb",
   "metadata": {},
   "outputs": [],
   "source": [
    "# Traductor universal\n",
    "\n",
    "user_messages = [\n",
    "  \"La performance du système est plus lente que d'habitude.\",  # System performance is slower than normal         \n",
    "  \"Mi monitor tiene píxeles que no se iluminan.\",              # My monitor has pixels that are not lighting\n",
    "  \"Il mio mouse non funziona\",                                 # My mouse is not working\n",
    "  \"Mój klawisz Ctrl jest zepsuty\",                             # My keyboard has a broken control key\n",
    "  \"我的屏幕在闪烁\"                                               # My screen is flashing\n",
    "] "
   ]
  },
  {
   "cell_type": "code",
   "execution_count": 13,
   "id": "16f2c75a",
   "metadata": {},
   "outputs": [
    {
     "name": "stdout",
     "output_type": "stream",
     "text": [
      "Mensaje original (Este es un fragmento de texto en francés.): La performance du système est plus lente que d'habitude.\n",
      "Español: El rendimiento del sistema es más lento de lo habitual.\n",
      "Coreano: 시스템 성능이 평소보다 느립니다. \n",
      "\n",
      "Mensaje original (Este es un texto en español.): Mi monitor tiene píxeles que no se iluminan.\n",
      "Español: Mi monitor tiene píxeles que no se iluminan.\n",
      "Coreano: 내 모니터에는 불이 켜지지 않는 픽셀이 있습니다. \n",
      "\n",
      "Mensaje original (Este es un fragmento de texto en italiano.): Il mio mouse non funziona\n",
      "Español: Mi ratón no funciona\n",
      "Coreano: 내 마우스가 작동하지 않습니다 (nae mauseuga jadonghaji anseumnida) \n",
      "\n",
      "Mensaje original (Este es el idioma polaco. La oración significa \"Mi tecla Ctrl está rota\".): Mój klawisz Ctrl jest zepsuty\n"
     ]
    },
    {
     "ename": "RateLimitError",
     "evalue": "Rate limit reached for default-gpt-3.5-turbo in organization org-UPO9rVpDCGaf4vlOoy9dXAWs on requests per min. Limit: 3 / min. Please try again in 20s. Contact us through our help center at help.openai.com if you continue to have issues. Please add a payment method to your account to increase your rate limit. Visit https://platform.openai.com/account/billing to add a payment method.",
     "output_type": "error",
     "traceback": [
      "\u001b[0;31m---------------------------------------------------------------------------\u001b[0m",
      "\u001b[0;31mRateLimitError\u001b[0m                            Traceback (most recent call last)",
      "Cell \u001b[0;32mIn[13], line 13\u001b[0m\n\u001b[1;32m      7\u001b[0m \u001b[38;5;28mprint\u001b[39m(\u001b[38;5;124mf\u001b[39m\u001b[38;5;124m\"\u001b[39m\u001b[38;5;124mMensaje original (\u001b[39m\u001b[38;5;132;01m{\u001b[39;00mlang\u001b[38;5;132;01m}\u001b[39;00m\u001b[38;5;124m): \u001b[39m\u001b[38;5;132;01m{\u001b[39;00missue\u001b[38;5;132;01m}\u001b[39;00m\u001b[38;5;124m\"\u001b[39m)\n\u001b[1;32m      9\u001b[0m prompt \u001b[38;5;241m=\u001b[39m \u001b[38;5;124mf\u001b[39m\u001b[38;5;124m\"\"\"\u001b[39m\n\u001b[1;32m     10\u001b[0m \u001b[38;5;124mTraduzca el siguiente lenguaje al español \u001b[39m\u001b[38;5;130;01m\\\u001b[39;00m\n\u001b[1;32m     11\u001b[0m \u001b[38;5;124my al coreano: ```\u001b[39m\u001b[38;5;132;01m{\u001b[39;00missue\u001b[38;5;132;01m}\u001b[39;00m\u001b[38;5;124m```\u001b[39m\n\u001b[1;32m     12\u001b[0m \u001b[38;5;124m\u001b[39m\u001b[38;5;124m\"\"\"\u001b[39m\n\u001b[0;32m---> 13\u001b[0m response \u001b[38;5;241m=\u001b[39m \u001b[43mget_completion\u001b[49m\u001b[43m(\u001b[49m\u001b[43mprompt\u001b[49m\u001b[43m)\u001b[49m\n\u001b[1;32m     14\u001b[0m \u001b[38;5;28mprint\u001b[39m(response, \u001b[38;5;124m\"\u001b[39m\u001b[38;5;130;01m\\n\u001b[39;00m\u001b[38;5;124m\"\u001b[39m)\n\u001b[1;32m     16\u001b[0m \u001b[38;5;66;03m# Pausa la ejecución durante 20 segundos\u001b[39;00m\n",
      "Cell \u001b[0;32mIn[4], line 3\u001b[0m, in \u001b[0;36mget_completion\u001b[0;34m(prompt, model)\u001b[0m\n\u001b[1;32m      1\u001b[0m \u001b[38;5;28;01mdef\u001b[39;00m \u001b[38;5;21mget_completion\u001b[39m(prompt, model\u001b[38;5;241m=\u001b[39m\u001b[38;5;124m\"\u001b[39m\u001b[38;5;124mgpt-3.5-turbo\u001b[39m\u001b[38;5;124m\"\u001b[39m): \u001b[38;5;66;03m# parametros que es la petición y el modelo a usar\u001b[39;00m\n\u001b[1;32m      2\u001b[0m     messages \u001b[38;5;241m=\u001b[39m [{\u001b[38;5;124m\"\u001b[39m\u001b[38;5;124mrole\u001b[39m\u001b[38;5;124m\"\u001b[39m: \u001b[38;5;124m\"\u001b[39m\u001b[38;5;124muser\u001b[39m\u001b[38;5;124m\"\u001b[39m, \u001b[38;5;124m\"\u001b[39m\u001b[38;5;124mcontent\u001b[39m\u001b[38;5;124m\"\u001b[39m: prompt}]\n\u001b[0;32m----> 3\u001b[0m     response \u001b[38;5;241m=\u001b[39m \u001b[43mopenai\u001b[49m\u001b[38;5;241;43m.\u001b[39;49m\u001b[43mChatCompletion\u001b[49m\u001b[38;5;241;43m.\u001b[39;49m\u001b[43mcreate\u001b[49m\u001b[43m(\u001b[49m\n\u001b[1;32m      4\u001b[0m \u001b[43m        \u001b[49m\u001b[43mmodel\u001b[49m\u001b[38;5;241;43m=\u001b[39;49m\u001b[43mmodel\u001b[49m\u001b[43m,\u001b[49m\n\u001b[1;32m      5\u001b[0m \u001b[43m        \u001b[49m\u001b[43mmessages\u001b[49m\u001b[38;5;241;43m=\u001b[39;49m\u001b[43mmessages\u001b[49m\u001b[43m,\u001b[49m\n\u001b[1;32m      6\u001b[0m \u001b[43m        \u001b[49m\u001b[43mtemperature\u001b[49m\u001b[38;5;241;43m=\u001b[39;49m\u001b[38;5;241;43m0\u001b[39;49m\u001b[43m,\u001b[49m\u001b[43m \u001b[49m\u001b[38;5;66;43;03m# this is the degree of randomness of the model's output\u001b[39;49;00m\n\u001b[1;32m      7\u001b[0m \u001b[43m    \u001b[49m\u001b[43m)\u001b[49m\n\u001b[1;32m      8\u001b[0m     \u001b[38;5;28;01mreturn\u001b[39;00m response\u001b[38;5;241m.\u001b[39mchoices[\u001b[38;5;241m0\u001b[39m]\u001b[38;5;241m.\u001b[39mmessage[\u001b[38;5;124m\"\u001b[39m\u001b[38;5;124mcontent\u001b[39m\u001b[38;5;124m\"\u001b[39m]\n",
      "File \u001b[0;32m~/.local/lib/python3.8/site-packages/openai/api_resources/chat_completion.py:25\u001b[0m, in \u001b[0;36mChatCompletion.create\u001b[0;34m(cls, *args, **kwargs)\u001b[0m\n\u001b[1;32m     23\u001b[0m \u001b[38;5;28;01mwhile\u001b[39;00m \u001b[38;5;28;01mTrue\u001b[39;00m:\n\u001b[1;32m     24\u001b[0m     \u001b[38;5;28;01mtry\u001b[39;00m:\n\u001b[0;32m---> 25\u001b[0m         \u001b[38;5;28;01mreturn\u001b[39;00m \u001b[38;5;28;43msuper\u001b[39;49m\u001b[43m(\u001b[49m\u001b[43m)\u001b[49m\u001b[38;5;241;43m.\u001b[39;49m\u001b[43mcreate\u001b[49m\u001b[43m(\u001b[49m\u001b[38;5;241;43m*\u001b[39;49m\u001b[43margs\u001b[49m\u001b[43m,\u001b[49m\u001b[43m \u001b[49m\u001b[38;5;241;43m*\u001b[39;49m\u001b[38;5;241;43m*\u001b[39;49m\u001b[43mkwargs\u001b[49m\u001b[43m)\u001b[49m\n\u001b[1;32m     26\u001b[0m     \u001b[38;5;28;01mexcept\u001b[39;00m TryAgain \u001b[38;5;28;01mas\u001b[39;00m e:\n\u001b[1;32m     27\u001b[0m         \u001b[38;5;28;01mif\u001b[39;00m timeout \u001b[38;5;129;01mis\u001b[39;00m \u001b[38;5;129;01mnot\u001b[39;00m \u001b[38;5;28;01mNone\u001b[39;00m \u001b[38;5;129;01mand\u001b[39;00m time\u001b[38;5;241m.\u001b[39mtime() \u001b[38;5;241m>\u001b[39m start \u001b[38;5;241m+\u001b[39m timeout:\n",
      "File \u001b[0;32m~/.local/lib/python3.8/site-packages/openai/api_resources/abstract/engine_api_resource.py:153\u001b[0m, in \u001b[0;36mEngineAPIResource.create\u001b[0;34m(cls, api_key, api_base, api_type, request_id, api_version, organization, **params)\u001b[0m\n\u001b[1;32m    127\u001b[0m \u001b[38;5;129m@classmethod\u001b[39m\n\u001b[1;32m    128\u001b[0m \u001b[38;5;28;01mdef\u001b[39;00m \u001b[38;5;21mcreate\u001b[39m(\n\u001b[1;32m    129\u001b[0m     \u001b[38;5;28mcls\u001b[39m,\n\u001b[0;32m   (...)\u001b[0m\n\u001b[1;32m    136\u001b[0m     \u001b[38;5;241m*\u001b[39m\u001b[38;5;241m*\u001b[39mparams,\n\u001b[1;32m    137\u001b[0m ):\n\u001b[1;32m    138\u001b[0m     (\n\u001b[1;32m    139\u001b[0m         deployment_id,\n\u001b[1;32m    140\u001b[0m         engine,\n\u001b[0;32m   (...)\u001b[0m\n\u001b[1;32m    150\u001b[0m         api_key, api_base, api_type, api_version, organization, \u001b[38;5;241m*\u001b[39m\u001b[38;5;241m*\u001b[39mparams\n\u001b[1;32m    151\u001b[0m     )\n\u001b[0;32m--> 153\u001b[0m     response, _, api_key \u001b[38;5;241m=\u001b[39m \u001b[43mrequestor\u001b[49m\u001b[38;5;241;43m.\u001b[39;49m\u001b[43mrequest\u001b[49m\u001b[43m(\u001b[49m\n\u001b[1;32m    154\u001b[0m \u001b[43m        \u001b[49m\u001b[38;5;124;43m\"\u001b[39;49m\u001b[38;5;124;43mpost\u001b[39;49m\u001b[38;5;124;43m\"\u001b[39;49m\u001b[43m,\u001b[49m\n\u001b[1;32m    155\u001b[0m \u001b[43m        \u001b[49m\u001b[43murl\u001b[49m\u001b[43m,\u001b[49m\n\u001b[1;32m    156\u001b[0m \u001b[43m        \u001b[49m\u001b[43mparams\u001b[49m\u001b[38;5;241;43m=\u001b[39;49m\u001b[43mparams\u001b[49m\u001b[43m,\u001b[49m\n\u001b[1;32m    157\u001b[0m \u001b[43m        \u001b[49m\u001b[43mheaders\u001b[49m\u001b[38;5;241;43m=\u001b[39;49m\u001b[43mheaders\u001b[49m\u001b[43m,\u001b[49m\n\u001b[1;32m    158\u001b[0m \u001b[43m        \u001b[49m\u001b[43mstream\u001b[49m\u001b[38;5;241;43m=\u001b[39;49m\u001b[43mstream\u001b[49m\u001b[43m,\u001b[49m\n\u001b[1;32m    159\u001b[0m \u001b[43m        \u001b[49m\u001b[43mrequest_id\u001b[49m\u001b[38;5;241;43m=\u001b[39;49m\u001b[43mrequest_id\u001b[49m\u001b[43m,\u001b[49m\n\u001b[1;32m    160\u001b[0m \u001b[43m        \u001b[49m\u001b[43mrequest_timeout\u001b[49m\u001b[38;5;241;43m=\u001b[39;49m\u001b[43mrequest_timeout\u001b[49m\u001b[43m,\u001b[49m\n\u001b[1;32m    161\u001b[0m \u001b[43m    \u001b[49m\u001b[43m)\u001b[49m\n\u001b[1;32m    163\u001b[0m     \u001b[38;5;28;01mif\u001b[39;00m stream:\n\u001b[1;32m    164\u001b[0m         \u001b[38;5;66;03m# must be an iterator\u001b[39;00m\n\u001b[1;32m    165\u001b[0m         \u001b[38;5;28;01massert\u001b[39;00m \u001b[38;5;129;01mnot\u001b[39;00m \u001b[38;5;28misinstance\u001b[39m(response, OpenAIResponse)\n",
      "File \u001b[0;32m~/.local/lib/python3.8/site-packages/openai/api_requestor.py:230\u001b[0m, in \u001b[0;36mAPIRequestor.request\u001b[0;34m(self, method, url, params, headers, files, stream, request_id, request_timeout)\u001b[0m\n\u001b[1;32m    209\u001b[0m \u001b[38;5;28;01mdef\u001b[39;00m \u001b[38;5;21mrequest\u001b[39m(\n\u001b[1;32m    210\u001b[0m     \u001b[38;5;28mself\u001b[39m,\n\u001b[1;32m    211\u001b[0m     method,\n\u001b[0;32m   (...)\u001b[0m\n\u001b[1;32m    218\u001b[0m     request_timeout: Optional[Union[\u001b[38;5;28mfloat\u001b[39m, Tuple[\u001b[38;5;28mfloat\u001b[39m, \u001b[38;5;28mfloat\u001b[39m]]] \u001b[38;5;241m=\u001b[39m \u001b[38;5;28;01mNone\u001b[39;00m,\n\u001b[1;32m    219\u001b[0m ) \u001b[38;5;241m-\u001b[39m\u001b[38;5;241m>\u001b[39m Tuple[Union[OpenAIResponse, Iterator[OpenAIResponse]], \u001b[38;5;28mbool\u001b[39m, \u001b[38;5;28mstr\u001b[39m]:\n\u001b[1;32m    220\u001b[0m     result \u001b[38;5;241m=\u001b[39m \u001b[38;5;28mself\u001b[39m\u001b[38;5;241m.\u001b[39mrequest_raw(\n\u001b[1;32m    221\u001b[0m         method\u001b[38;5;241m.\u001b[39mlower(),\n\u001b[1;32m    222\u001b[0m         url,\n\u001b[0;32m   (...)\u001b[0m\n\u001b[1;32m    228\u001b[0m         request_timeout\u001b[38;5;241m=\u001b[39mrequest_timeout,\n\u001b[1;32m    229\u001b[0m     )\n\u001b[0;32m--> 230\u001b[0m     resp, got_stream \u001b[38;5;241m=\u001b[39m \u001b[38;5;28;43mself\u001b[39;49m\u001b[38;5;241;43m.\u001b[39;49m\u001b[43m_interpret_response\u001b[49m\u001b[43m(\u001b[49m\u001b[43mresult\u001b[49m\u001b[43m,\u001b[49m\u001b[43m \u001b[49m\u001b[43mstream\u001b[49m\u001b[43m)\u001b[49m\n\u001b[1;32m    231\u001b[0m     \u001b[38;5;28;01mreturn\u001b[39;00m resp, got_stream, \u001b[38;5;28mself\u001b[39m\u001b[38;5;241m.\u001b[39mapi_key\n",
      "File \u001b[0;32m~/.local/lib/python3.8/site-packages/openai/api_requestor.py:624\u001b[0m, in \u001b[0;36mAPIRequestor._interpret_response\u001b[0;34m(self, result, stream)\u001b[0m\n\u001b[1;32m    616\u001b[0m     \u001b[38;5;28;01mreturn\u001b[39;00m (\n\u001b[1;32m    617\u001b[0m         \u001b[38;5;28mself\u001b[39m\u001b[38;5;241m.\u001b[39m_interpret_response_line(\n\u001b[1;32m    618\u001b[0m             line, result\u001b[38;5;241m.\u001b[39mstatus_code, result\u001b[38;5;241m.\u001b[39mheaders, stream\u001b[38;5;241m=\u001b[39m\u001b[38;5;28;01mTrue\u001b[39;00m\n\u001b[1;32m    619\u001b[0m         )\n\u001b[1;32m    620\u001b[0m         \u001b[38;5;28;01mfor\u001b[39;00m line \u001b[38;5;129;01min\u001b[39;00m parse_stream(result\u001b[38;5;241m.\u001b[39miter_lines())\n\u001b[1;32m    621\u001b[0m     ), \u001b[38;5;28;01mTrue\u001b[39;00m\n\u001b[1;32m    622\u001b[0m \u001b[38;5;28;01melse\u001b[39;00m:\n\u001b[1;32m    623\u001b[0m     \u001b[38;5;28;01mreturn\u001b[39;00m (\n\u001b[0;32m--> 624\u001b[0m         \u001b[38;5;28;43mself\u001b[39;49m\u001b[38;5;241;43m.\u001b[39;49m\u001b[43m_interpret_response_line\u001b[49m\u001b[43m(\u001b[49m\n\u001b[1;32m    625\u001b[0m \u001b[43m            \u001b[49m\u001b[43mresult\u001b[49m\u001b[38;5;241;43m.\u001b[39;49m\u001b[43mcontent\u001b[49m\u001b[38;5;241;43m.\u001b[39;49m\u001b[43mdecode\u001b[49m\u001b[43m(\u001b[49m\u001b[38;5;124;43m\"\u001b[39;49m\u001b[38;5;124;43mutf-8\u001b[39;49m\u001b[38;5;124;43m\"\u001b[39;49m\u001b[43m)\u001b[49m\u001b[43m,\u001b[49m\n\u001b[1;32m    626\u001b[0m \u001b[43m            \u001b[49m\u001b[43mresult\u001b[49m\u001b[38;5;241;43m.\u001b[39;49m\u001b[43mstatus_code\u001b[49m\u001b[43m,\u001b[49m\n\u001b[1;32m    627\u001b[0m \u001b[43m            \u001b[49m\u001b[43mresult\u001b[49m\u001b[38;5;241;43m.\u001b[39;49m\u001b[43mheaders\u001b[49m\u001b[43m,\u001b[49m\n\u001b[1;32m    628\u001b[0m \u001b[43m            \u001b[49m\u001b[43mstream\u001b[49m\u001b[38;5;241;43m=\u001b[39;49m\u001b[38;5;28;43;01mFalse\u001b[39;49;00m\u001b[43m,\u001b[49m\n\u001b[1;32m    629\u001b[0m \u001b[43m        \u001b[49m\u001b[43m)\u001b[49m,\n\u001b[1;32m    630\u001b[0m         \u001b[38;5;28;01mFalse\u001b[39;00m,\n\u001b[1;32m    631\u001b[0m     )\n",
      "File \u001b[0;32m~/.local/lib/python3.8/site-packages/openai/api_requestor.py:687\u001b[0m, in \u001b[0;36mAPIRequestor._interpret_response_line\u001b[0;34m(self, rbody, rcode, rheaders, stream)\u001b[0m\n\u001b[1;32m    685\u001b[0m stream_error \u001b[38;5;241m=\u001b[39m stream \u001b[38;5;129;01mand\u001b[39;00m \u001b[38;5;124m\"\u001b[39m\u001b[38;5;124merror\u001b[39m\u001b[38;5;124m\"\u001b[39m \u001b[38;5;129;01min\u001b[39;00m resp\u001b[38;5;241m.\u001b[39mdata\n\u001b[1;32m    686\u001b[0m \u001b[38;5;28;01mif\u001b[39;00m stream_error \u001b[38;5;129;01mor\u001b[39;00m \u001b[38;5;129;01mnot\u001b[39;00m \u001b[38;5;241m200\u001b[39m \u001b[38;5;241m<\u001b[39m\u001b[38;5;241m=\u001b[39m rcode \u001b[38;5;241m<\u001b[39m \u001b[38;5;241m300\u001b[39m:\n\u001b[0;32m--> 687\u001b[0m     \u001b[38;5;28;01mraise\u001b[39;00m \u001b[38;5;28mself\u001b[39m\u001b[38;5;241m.\u001b[39mhandle_error_response(\n\u001b[1;32m    688\u001b[0m         rbody, rcode, resp\u001b[38;5;241m.\u001b[39mdata, rheaders, stream_error\u001b[38;5;241m=\u001b[39mstream_error\n\u001b[1;32m    689\u001b[0m     )\n\u001b[1;32m    690\u001b[0m \u001b[38;5;28;01mreturn\u001b[39;00m resp\n",
      "\u001b[0;31mRateLimitError\u001b[0m: Rate limit reached for default-gpt-3.5-turbo in organization org-UPO9rVpDCGaf4vlOoy9dXAWs on requests per min. Limit: 3 / min. Please try again in 20s. Contact us through our help center at help.openai.com if you continue to have issues. Please add a payment method to your account to increase your rate limit. Visit https://platform.openai.com/account/billing to add a payment method."
     ]
    }
   ],
   "source": [
    "import time\n",
    "\n",
    "for issue in user_messages:\n",
    "    # Tu código dentro del ciclo\n",
    "    prompt = f\"Dime que lenguaje es esto: ```{issue}```\"\n",
    "    lang = get_completion(prompt)\n",
    "    print(f\"Mensaje original ({lang}): {issue}\")\n",
    "\n",
    "    prompt = f\"\"\"\n",
    "    Traduzca el siguiente lenguaje al español \\\n",
    "    y al coreano: ```{issue}```\n",
    "    \"\"\"\n",
    "    response = get_completion(prompt)\n",
    "    print(response, \"\\n\")\n",
    "\n",
    "    # Pausa la ejecución durante 20 segundos\n",
    "    time.sleep(30)\n"
   ]
  },
  {
   "cell_type": "code",
   "execution_count": 15,
   "id": "253407c9",
   "metadata": {},
   "outputs": [
    {
     "name": "stdout",
     "output_type": "stream",
     "text": [
      "Estimado/a, \n",
      "\n",
      "Le saluda Joe. Me gustaría llamar su atención sobre las especificaciones de una lámpara de pie. \n",
      "\n",
      "Atentamente, \n",
      "[Su nombre]\n"
     ]
    }
   ],
   "source": [
    "prompt = f\"\"\"\n",
    "Traduce lo siguiente de la jerga a una carta comercial:\n",
    "'Amigo, este es Joe, echa un vistazo a esta especificación en esta lámpara de pie.'\n",
    "\"\"\"\n",
    "response = get_completion(prompt)\n",
    "print(response)"
   ]
  },
  {
   "cell_type": "code",
   "execution_count": 16,
   "id": "c8b9eb5a",
   "metadata": {},
   "outputs": [
    {
     "name": "stdout",
     "output_type": "stream",
     "text": [
      "<table>\n",
      "  <caption>Empleados del restaurante</caption>\n",
      "  <thead>\n",
      "    <tr>\n",
      "      <th>Nombre</th>\n",
      "      <th>Correo electrónico</th>\n",
      "    </tr>\n",
      "  </thead>\n",
      "  <tbody>\n",
      "    <tr>\n",
      "      <td>Shyam</td>\n",
      "      <td>shyamjaiswal@gmail.com</td>\n",
      "    </tr>\n",
      "    <tr>\n",
      "      <td>Bob</td>\n",
      "      <td>bob32@gmail.com</td>\n",
      "    </tr>\n",
      "    <tr>\n",
      "      <td>Jai</td>\n",
      "      <td>jai87@gmail.com</td>\n",
      "    </tr>\n",
      "  </tbody>\n",
      "</table>\n"
     ]
    }
   ],
   "source": [
    "data_json = { \"empleados del restaurante\" :[\n",
    "     {\"nombre\":\"Shyam\", \"correo electrónico\":\"shyamjaiswal@gmail.com\"},\n",
    "     {\"nombre\":\"Bob\", \"correo electrónico\":\"bob32@gmail.com\"},\n",
    "     {\"nombre\":\"Jai\", \"correo electrónico\":\"jai87@gmail.com\"}\n",
    "]}\n",
    "\n",
    "prompt = f\"\"\"\n",
    "Traduce el siguiente diccionario de python de JSON a un HTML \\\n",
    "tabla con encabezados de columna y título:{data_json}\n",
    "\"\"\"\n",
    "response = get_completion(prompt)\n",
    "print(response)"
   ]
  },
  {
   "cell_type": "code",
   "execution_count": 17,
   "id": "595ce7a5",
   "metadata": {},
   "outputs": [
    {
     "data": {
      "text/html": [
       "<table>\n",
       "  <caption>Empleados del restaurante</caption>\n",
       "  <thead>\n",
       "    <tr>\n",
       "      <th>Nombre</th>\n",
       "      <th>Correo electrónico</th>\n",
       "    </tr>\n",
       "  </thead>\n",
       "  <tbody>\n",
       "    <tr>\n",
       "      <td>Shyam</td>\n",
       "      <td>shyamjaiswal@gmail.com</td>\n",
       "    </tr>\n",
       "    <tr>\n",
       "      <td>Bob</td>\n",
       "      <td>bob32@gmail.com</td>\n",
       "    </tr>\n",
       "    <tr>\n",
       "      <td>Jai</td>\n",
       "      <td>jai87@gmail.com</td>\n",
       "    </tr>\n",
       "  </tbody>\n",
       "</table>"
      ],
      "text/plain": [
       "<IPython.core.display.HTML object>"
      ]
     },
     "metadata": {},
     "output_type": "display_data"
    }
   ],
   "source": [
    "display(HTML(response))"
   ]
  },
  {
   "cell_type": "code",
   "execution_count": 25,
   "id": "35edb32c",
   "metadata": {},
   "outputs": [
    {
     "name": "stdout",
     "output_type": "stream",
     "text": [
      "No se encontraron errores.\n",
      "Va a ser un día largo. ¿El auto necesita que le cambien el aceite?\n",
      "No se encontraron errores.\n"
     ]
    }
   ],
   "source": [
    "# Grámatica \n",
    "\n",
    "text = [ \n",
    "   \"La niña con los cachorros blancos y negros tiene una pelota.\", # La niña tiene una pelota.\n",
    "   \"Va a ser un día largo. ¿El autos necesita que le cambiens el aceite?\",\n",
    "    \"Yolanda tiene su libretas.\", \n",
    "]\n",
    "for t in text:\n",
    "    prompt = f\"\"\"Revisa y corrige el siguiente texto\n",
    "     y reescribir la versión corregida con ortográfia y grámatica adecuada.\n",
    "     si no encuentras errores, simplemente diga \"No se encontraron errores\". no usar\n",
    "     cualquier puntuación alrededor del texto, revise detalladamente:\n",
    "    ```{t}```\"\"\"\n",
    "    response = get_completion(prompt)\n",
    "    print(response)\n",
    "# presenta un error en libretas        "
   ]
  },
  {
   "cell_type": "code",
   "execution_count": 4,
   "id": "627692f2",
   "metadata": {},
   "outputs": [
    {
     "name": "stdout",
     "output_type": "stream",
     "text": [
      "Tengo esto para mi hija por su cumpleaños porque sigue tomando el mío de mi habitación. Sí, a los adultos también les gustan los pandas. Ella lo lleva a todas partes con ella, y es súper suave y lindo. Una de las orejas es un poco más baja que la otra, y no creo que eso haya sido diseñado para ser asimétrico. Es un poco pequeño para lo que pagué por él. Creo que podría haber otras opciones que son más grandes por el mismo precio. Llegó un día antes de lo esperado, así que pude jugar con él antes de dárselo a mi hija.\n"
     ]
    }
   ],
   "source": [
    "text = f\"\"\"\n",
    "Tengo esto para mi hija por su cumpleaños porque sigue tomando \\\n",
    "el mío de mi habitación. Sí, a los adultos también les gustan los pandas. Ella toma \\\n",
    "ella en todas partes con ella, y es súper suave y lindo. Uno de los \\\n",
    "orejas es un poco más bajo que el otro, y no creo que eso fuera \\\n",
    "diseñado para ser asimétrico. Es un poco pequeño para lo que pagué por él \\\n",
    "aunque. Creo que podría haber otras opciones que son más grandes para \\\n",
    "el mismo precio. Llegó un día antes de lo esperado, así que recibí \\\n",
    "jugar con él antes de dárselo a mi hija.\n",
    "\"\"\"\n",
    "prompt = f\"revisa y corrige esta reseña: ```{text}```\"\n",
    "response = get_completion(prompt)\n",
    "print(response)"
   ]
  },
  {
   "cell_type": "code",
   "execution_count": 7,
   "id": "1e639851",
   "metadata": {},
   "outputs": [
    {
     "data": {
      "text/markdown": [
       "Tengo esto para mi hija por su cumpleaños porque sigue tomando el mío de mi habitación. Sí, a los adultos también les gustan los pandas. Ella <span style=\"color:red;font-weight:700;text-decoration:line-through;\">toma ella en </span><span style=\"color:red;font-weight:700;\">lo lleva a </span>todas partes con ella, y es súper suave y lindo. <span style=\"color:red;font-weight:700;text-decoration:line-through;\">Uno </span><span style=\"color:red;font-weight:700;\">Una </span>de <span style=\"color:red;font-weight:700;text-decoration:line-through;\">los </span><span style=\"color:red;font-weight:700;\">las </span>orejas es un poco más <span style=\"color:red;font-weight:700;text-decoration:line-through;\">bajo </span><span style=\"color:red;font-weight:700;\">baja </span>que <span style=\"color:red;font-weight:700;text-decoration:line-through;\">el otro, </span><span style=\"color:red;font-weight:700;\">la otra, </span>y no creo que eso <span style=\"color:red;font-weight:700;text-decoration:line-through;\">fuera </span><span style=\"color:red;font-weight:700;\">haya sido </span>diseñado para ser asimétrico. Es un poco pequeño para lo que pagué por <span style=\"color:red;font-weight:700;text-decoration:line-through;\">él aunque. </span><span style=\"color:red;font-weight:700;\">él. </span>Creo que podría haber otras opciones que son más grandes <span style=\"color:red;font-weight:700;text-decoration:line-through;\">para </span><span style=\"color:red;font-weight:700;\">por </span>el mismo precio. Llegó un día antes de lo esperado, así que <span style=\"color:red;font-weight:700;text-decoration:line-through;\">recibí </span><span style=\"color:red;font-weight:700;\">pude </span>jugar con él antes de dárselo a mi hija."
      ],
      "text/plain": [
       "<IPython.core.display.Markdown object>"
      ]
     },
     "metadata": {},
     "output_type": "display_data"
    }
   ],
   "source": [
    "from redlines import Redlines\n",
    "\n",
    "diff = Redlines(text,response)\n",
    "display(Markdown(diff.output_markdown))"
   ]
  },
  {
   "cell_type": "code",
   "execution_count": 10,
   "id": "90243740",
   "metadata": {},
   "outputs": [
    {
     "data": {
      "text/markdown": [
       "Título: Revisión de un peluche de panda para regalo de cumpleaños\n",
       "\n",
       "Si estás buscando un regalo adorable y suave para un niño o incluso para ti mismo, este peluche de panda podría ser una buena opción. Como menciona un comprador satisfecho, \"Sí, a los adultos también les gustan los pandas\". Además, es perfecto para llevarlo a todas partes, como lo hace su hija.\n",
       "\n",
       "Sin embargo, es importante tener en cuenta que el peluche puede tener algunas imperfecciones. Como se menciona en la revisión, \"Uno de los orejas es un poco más bajo que el otro, y no creo que eso fuera diseñado para ser asimétrico\". Aunque esto no afecta la calidad del peluche, es algo a tener en cuenta antes de comprarlo.\n",
       "\n",
       "Otro aspecto a considerar es el tamaño del peluche. Según la revisión, \"Es un poco pequeño para lo que pagué por él aunque. Creo que podría haber otras opciones que son más grandes para el mismo precio\". Si el tamaño es importante para ti, es posible que desees buscar otras opciones antes de decidirte por este peluche.\n",
       "\n",
       "En general, este peluche de panda es una opción adorable y suave para un regalo de cumpleaños o simplemente para ti mismo. Como menciona el comprador, \"Llegó un día antes de lo esperado, así que recibí jugar con él antes de dárselo a mi hija\". Si decides comprarlo, asegúrate de tener en cuenta las posibles imperfecciones y el tamaño antes de hacerlo.\n",
       "\n",
       "Referencia:\n",
       "Apellido, A. (año). Título del artículo. Nombre de la revista, volumen (número), páginas."
      ],
      "text/plain": [
       "<IPython.core.display.Markdown object>"
      ]
     },
     "metadata": {},
     "output_type": "display_data"
    }
   ],
   "source": [
    "prompt = f\"\"\"\n",
    "revisar y corregir esta revisión. Hazlo más convincente.\n",
    "Asegúrese de que siga la guía de estilo APA septima version, incluya titulo,\n",
    "tres parrafos y esté dirigido a un lector avanzado. Incluya citas textuales\n",
    "Salida en formato de descuento.\n",
    "Text: ```{text}```\n",
    "\"\"\"\n",
    "response = get_completion(prompt)\n",
    "display(Markdown(response))"
   ]
  },
  {
   "cell_type": "code",
   "execution_count": 12,
   "id": "0011aa00",
   "metadata": {},
   "outputs": [],
   "source": [
    "# Expandiar -> ampliar o agrandar el texto proporcionado\n",
    "# En esta lección, generará correos electrónicos de servicio \n",
    "# al cliente que se adaptan a la revisión de cada cliente."
   ]
  },
  {
   "cell_type": "code",
   "execution_count": 13,
   "id": "cefb7f0e",
   "metadata": {},
   "outputs": [],
   "source": [
    "# given the sentiment from the lesson on \"inferring\",\n",
    "# and the original customer message, customize the email\n",
    "sentiment = \"negativo\"\n",
    "\n",
    "# review for a blender\n",
    "review = f\"\"\"\n",
    "Entonces, todavía tenían el sistema de 17 piezas en temporada \\\n",
    "venta por alrededor de $ 49 en el mes de noviembre, alrededor de \\\n",
    "mitad de descuento, pero por alguna razón (llámalo aumento de precios) \\\n",
    "alrededor de la segunda semana de diciembre todos los precios subieron \\\n",
    "hasta alrededor de $70-$89 por el mismo \\\n",
    "sistema. Y el sistema de 11 piezas subió alrededor de $10 o \\\n",
    "así que en precio también desde el precio de venta anterior de $29. \\\n",
    "Entonces se ve bien, pero si miras la base, la parte \\\n",
    "donde la hoja se traba en su lugar no se ve tan bien \\\n",
    "como en ediciones anteriores de hace unos años, pero yo \\\n",
    "planeo ser muy gentil con él (ejemplo, aplasto \\\n",
    "artículos muy duros como frijoles, hielo, arroz, etc. en el \\\n",
    "licuadora primero y luego pulverícelos en el tamaño de la porción \\\n",
    "Quiero en la licuadora luego cambiar a la batida \\\n",
    "hoja para una harina más fina, y use la hoja de corte transversal \\\n",
    "primero cuando haga batidos, luego use la cuchilla plana \\\n",
    "si los necesito más finos/menos pulposos). Consejo especial al hacer \\\n",
    "batidos, corte finamente y congele las frutas y \\\n",
    "Verduras (si usa espinacas, estofado ligeramente, ablande el \\\n",
    "espinaca luego congélela hasta que esté lista para usar, y si está haciendo \\\n",
    "sorbete, use un procesador de alimentos de tamaño pequeño a mediano) \\\n",
    "que planea usar de esa manera puede evitar agregar \\\n",
    "mucho hielo, si es que lo hay, al hacer su batido. \\\n",
    "Después de aproximadamente un año, el motor estaba haciendo un ruido raro. \\\n",
    "Llamé al servicio de atención al cliente pero la garantía expiró \\\n",
    "ya, así que tuve que comprar otro. FYI: El \\ general\n",
    "la calidad se ha hecho en este tipo de productos, por lo que \\\n",
    "en cierto modo cuentan con el reconocimiento de la marca y \\\n",
    "fidelización del consumidor para mantener las ventas. Lo tengo en alrededor de \\\n",
    "dos días.\n",
    "\"\"\""
   ]
  },
  {
   "cell_type": "code",
   "execution_count": 15,
   "id": "274a9930",
   "metadata": {},
   "outputs": [
    {
     "name": "stdout",
     "output_type": "stream",
     "text": [
      "Estimado cliente,\n",
      "\n",
      "Gracias por tomarse el tiempo de compartir su experiencia con nosotros. Lamentamos mucho que haya tenido problemas con su producto y que haya tenido que comprar otro. Nos disculpamos por cualquier inconveniente que esto haya causado.\n",
      "\n",
      "Apreciamos sus consejos sobre cómo usar el producto de manera efectiva y definitivamente los tendremos en cuenta para futuras mejoras. Nos esforzamos por brindar productos de alta calidad y nos tomamos en serio cualquier problema que nuestros clientes puedan tener.\n",
      "\n",
      "Si necesita ayuda adicional, no dude en ponerse en contacto con nuestro servicio de atención al cliente. Estamos aquí para ayudarlo en cualquier momento.\n",
      "\n",
      "Gracias de nuevo por su revisión y esperamos poder servirle mejor en el futuro.\n",
      "\n",
      "Atentamente,\n",
      "Agente de cliente de AI\n"
     ]
    }
   ],
   "source": [
    "prompt = f\"\"\"\n",
    "Eres un asistente de IA de servicio al cliente.\n",
    "Su tarea es enviar una respuesta por correo electrónico a un cliente valioso.\n",
    "Dado el correo electrónico del cliente delimitado por ```, \\\n",
    "Genere una respuesta para agradecer al cliente por su revisión.\n",
    "Si el sentimiento es positivo o neutral, agradézcales por \\\n",
    "su revisión.\n",
    "Si el sentimiento es negativo, pida disculpas y sugiera que \\\n",
    "pueden ponerse en contacto con el servicio de atención al cliente.\n",
    "Asegúrese de usar detalles específicos de la revisión.\n",
    "Escribe en un tono conciso y profesional.\n",
    "Firme el correo electrónico como `Agente de cliente de AI`.\n",
    "Reseña del cliente: ```{review}```\n",
    "Opinión de opinión: {sentiment}\n",
    "\"\"\"\n",
    "response = get_completion(prompt)\n",
    "print(response)"
   ]
  },
  {
   "cell_type": "code",
   "execution_count": 21,
   "id": "0dd12fd2",
   "metadata": {},
   "outputs": [
    {
     "name": "stdout",
     "output_type": "stream",
     "text": [
      "Estimado cliente,\n",
      "\n",
      "Gracias por compartir su experiencia con nosotros. Lamentamos mucho que haya tenido problemas con su sistema y que haya experimentado un aumento de precios en diciembre. Nos disculpamos sinceramente por cualquier inconveniente que esto haya causado.\n",
      "\n",
      "Apreciamos sus consejos sobre cómo utilizar el sistema y los tendremos en cuenta para mejorar nuestros productos en el futuro. También es importante destacar que valoramos mucho su lealtad como cliente y su apoyo a nuestra marca.\n",
      "\n",
      "Si hay algo más que podamos hacer para ayudarlo, no dude en ponerse en contacto con nuestro servicio de atención al cliente. Haremos todo lo posible para resolver cualquier problema que pueda tener.\n",
      "\n",
      "Atentamente,\n",
      "Agente de cliente de IA\n",
      "------------------------\n",
      "Estimado cliente,\n",
      "\n",
      "Gracias por su revisión reciente de nuestro sistema de 17 piezas. Lamentamos escuchar que ha tenido problemas con el aumento de precios y la calidad del producto. Nos disculpamos sinceramente por cualquier inconveniente que esto pueda haberle causado.\n",
      "\n",
      "Nos esforzamos por ofrecer productos de alta calidad a precios justos, y entendemos su frustración al ver que nuestros precios han aumentado desde su compra original. Desafortunadamente, los precios pueden fluctuar debido a una variedad de factores, incluidos los costos de producción y los precios de los materiales.\n",
      "\n",
      "Apreciamos sus consejos sobre cómo usar nuestro sistema de manera efectiva y estamos comprometidos a mejorar la calidad de nuestros productos. Si tiene alguna otra inquietud, no dude en ponerse en contacto con nuestro servicio de atención al cliente en cualquier momento.\n",
      "\n",
      "Agradecemos su lealtad como cliente y esperamos tener la oportunidad de servirle mejor en el futuro.\n",
      "\n",
      "Atentamente,\n",
      "Agente de cliente de AI\n",
      "------------------------\n"
     ]
    }
   ],
   "source": [
    "def get_completion(prompt, model=\"gpt-3.5-turbo\",temperature=0): # Andrew mentioned that the prompt/ completion paradigm is preferable for this class\n",
    "    messages = [{\"role\": \"user\", \"content\": prompt}]\n",
    "    response = openai.ChatCompletion.create(\n",
    "        model=model,\n",
    "        messages=messages,\n",
    "        temperature=temperature, # this is the degree of randomness of the model's output\n",
    "    )\n",
    "    return response.choices[0].message[\"content\"]\n",
    "\n",
    "prompt = f\"\"\"\n",
    "Eres un asistente de IA de servicio al cliente.\n",
    "Su tarea es enviar una respuesta por correo electrónico a un cliente valioso.\n",
    "Dado el correo electrónico del cliente delimitado por ```, \\\n",
    "Genere una respuesta para agradecer al cliente por su revisión.\n",
    "Si el sentimiento es positivo o neutral, agradézcales por \\\n",
    "su revisión.\n",
    "Si el sentimiento es negativo, pida disculpas y sugiera que \\\n",
    "pueden ponerse en contacto con el servicio de atención al cliente.\n",
    "Asegúrese de usar detalles específicos de la revisión.\n",
    "Escribe en un tono conciso y profesional.\n",
    "Firme el correo electrónico como `Agente de cliente de AI`.\n",
    "Reseña del cliente: ```{review}```\n",
    "Opinión de opinión: {sentiment}\n",
    "\"\"\"\n",
    "for i in range(2):\n",
    "    response = get_completion(prompt, temperature=0.7)\n",
    "    print(response)\n",
    "    print(\"---\"*8)\n",
    "    \n",
    "# La temperatura 0 es más fiable por lo que es más probable que se aline a lo que buscamos\n",
    "# se alinea a dar la respuesta que queremos obtener\n",
    "# no obstante la temperatura 0.7 tiene probabilidad mayor probabilidad de fallar, esta\n",
    "# ronda un 30%, no obstante, se vuelve más creativa y responde de manera aleatoria\n",
    "# la temperatura "
   ]
  },
  {
   "cell_type": "code",
   "execution_count": null,
   "id": "6774810a",
   "metadata": {},
   "outputs": [],
   "source": []
  }
 ],
 "metadata": {
  "kernelspec": {
   "display_name": "Python 3 (ipykernel)",
   "language": "python",
   "name": "python3"
  },
  "language_info": {
   "codemirror_mode": {
    "name": "ipython",
    "version": 3
   },
   "file_extension": ".py",
   "mimetype": "text/x-python",
   "name": "python",
   "nbconvert_exporter": "python",
   "pygments_lexer": "ipython3",
   "version": "3.8.10"
  }
 },
 "nbformat": 4,
 "nbformat_minor": 5
}
